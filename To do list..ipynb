{
 "cells": [
  {
   "cell_type": "code",
   "execution_count": 3,
   "metadata": {},
   "outputs": [],
   "source": [
    "Task_list = [\"wake up\",\"sehri\",\"wazoo\",\"Fajr prayer\",\"go to sleep\",\"you are fasting\",\"recite Quran\",\"Prayers\",\"iftar\",\"nap\"]\n"
   ]
  },
  {
   "cell_type": "code",
   "execution_count": 5,
   "metadata": {},
   "outputs": [
    {
     "name": "stdout",
     "output_type": "stream",
     "text": [
      "Current task is sehri\n",
      "Your pending tasks are: ['wazoo', 'Fajr prayer', 'go to sleep', 'you are fasting', 'recite Quran', 'Prayers', 'iftar', 'nap']\n",
      "Task you have completed is: ['sehri']\n"
     ]
    }
   ],
   "source": [
    "Current_task_list=[]\n",
    "\n",
    "Task_select=input(\"Current task is \")\n",
    "if Task_select in Task_list:\n",
    "    Completed_index=Task_list.index(Task_select)\n",
    "    element=Task_list.pop(Completed_index)\n",
    "    Current_task_list.append(element)\n",
    "        \n",
    "    print(f'Your pending tasks are: {Task_list}')\n",
    "    print(f'Task you have completed is: {Current_task_list}')\n",
    "else:\n",
    "    print('Task is not given in the list''.')"
   ]
  },
  {
   "cell_type": "code",
   "execution_count": null,
   "metadata": {},
   "outputs": [],
   "source": []
  },
  {
   "cell_type": "code",
   "execution_count": null,
   "metadata": {},
   "outputs": [],
   "source": []
  }
 ],
 "metadata": {
  "kernelspec": {
   "display_name": "Python 3",
   "language": "python",
   "name": "python3"
  },
  "language_info": {
   "codemirror_mode": {
    "name": "ipython",
    "version": 3
   },
   "file_extension": ".py",
   "mimetype": "text/x-python",
   "name": "python",
   "nbconvert_exporter": "python",
   "pygments_lexer": "ipython3",
   "version": "3.7.3"
  }
 },
 "nbformat": 4,
 "nbformat_minor": 2
}
