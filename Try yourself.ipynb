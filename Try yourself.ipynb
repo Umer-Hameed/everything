{
 "cells": [
  {
   "cell_type": "code",
   "execution_count": 1,
   "metadata": {},
   "outputs": [],
   "source": [
    "class User():\n",
    "    def __init__(self,fname,lname,gender,age):   \n",
    "        self.userFname= fname\n",
    "        self.userLname= lname\n",
    "        self.usergender = gender.lower()\n",
    "        self.userage = age\n",
    "        self.loginattempt= 0  \n",
    "        self.resetloginattempt=0\n",
    "    \n",
    "    def describe(self):\n",
    "        Full_name= str(self.userFname)+' '+self.userLname\n",
    "        print(f'User name is {Full_name}')\n",
    "            \n",
    "        if self.usergender == 'male':\n",
    "            print(f'{self.userFname} is a boy.')\n",
    "        else:\n",
    "            print(f'{self.userFname} is a girl.')\n",
    "        \n",
    "        print(f'{self.userFname} is {self.userage} old.')\n",
    "    def greet(self):\n",
    "        print(f'Hello {self.userFname}.')\n",
    "    \n",
    "    def getloginA(self):\n",
    "        print(f'{self.loginattempt} users have logged in.')\n",
    "    \n",
    "    def setloginA(self,numbers):\n",
    "        self.loginattempt= numbers\n",
    "    \n",
    "    def increment(self,numbers):\n",
    "        self.loginattempt += numbers\n",
    "        \n",
    "    def resetloginA(self):\n",
    "        print(f'{self.resetloginattempt} User have logged in.')\n",
    "        "
   ]
  },
  {
   "cell_type": "code",
   "execution_count": 2,
   "metadata": {},
   "outputs": [],
   "source": [
    "u1=User('Umer','Hameed','MALE',17)"
   ]
  },
  {
   "cell_type": "code",
   "execution_count": 3,
   "metadata": {},
   "outputs": [
    {
     "name": "stdout",
     "output_type": "stream",
     "text": [
      "User name is Umer Hameed\n",
      "Umer is a boy.\n",
      "Umer is 17 old.\n"
     ]
    }
   ],
   "source": [
    "u1.describe()"
   ]
  },
  {
   "cell_type": "code",
   "execution_count": 4,
   "metadata": {},
   "outputs": [
    {
     "name": "stdout",
     "output_type": "stream",
     "text": [
      "Hello Umer.\n"
     ]
    }
   ],
   "source": [
    "u1.greet()"
   ]
  },
  {
   "cell_type": "code",
   "execution_count": 5,
   "metadata": {},
   "outputs": [
    {
     "name": "stdout",
     "output_type": "stream",
     "text": [
      "0 users have logged in.\n"
     ]
    }
   ],
   "source": [
    "u1.getloginA()"
   ]
  },
  {
   "cell_type": "code",
   "execution_count": 6,
   "metadata": {},
   "outputs": [],
   "source": [
    "u1.setloginA(1)"
   ]
  },
  {
   "cell_type": "code",
   "execution_count": 7,
   "metadata": {},
   "outputs": [
    {
     "name": "stdout",
     "output_type": "stream",
     "text": [
      "2 users have logged in.\n"
     ]
    }
   ],
   "source": [
    "u1.increment(1)\n",
    "u1.getloginA()"
   ]
  },
  {
   "cell_type": "code",
   "execution_count": 8,
   "metadata": {},
   "outputs": [
    {
     "name": "stdout",
     "output_type": "stream",
     "text": [
      "0 User have logged in.\n"
     ]
    }
   ],
   "source": [
    "u1.resetloginA()"
   ]
  },
  {
   "cell_type": "code",
   "execution_count": 48,
   "metadata": {},
   "outputs": [],
   "source": [
    "class Admin(User):\n",
    "    def __init__(self,fname,lname,gender,age):\n",
    "        super(). __init__(fname,lname,gender,age)\n",
    "        self.previlege = [\"Can do every thing.\"]\n",
    "    def abc(self):\n",
    "        print(f'{self.previlege}')"
   ]
  },
  {
   "cell_type": "code",
   "execution_count": null,
   "metadata": {},
   "outputs": [],
   "source": []
  },
  {
   "cell_type": "code",
   "execution_count": 49,
   "metadata": {},
   "outputs": [],
   "source": [
    "isca = Admin(\"Hammmad\",\"Ali\",\"male\",19)"
   ]
  },
  {
   "cell_type": "code",
   "execution_count": 50,
   "metadata": {},
   "outputs": [
    {
     "name": "stdout",
     "output_type": "stream",
     "text": [
      "['Can do every thing.']\n"
     ]
    }
   ],
   "source": [
    "isca.abc()"
   ]
  },
  {
   "cell_type": "code",
   "execution_count": 54,
   "metadata": {},
   "outputs": [
    {
     "name": "stdout",
     "output_type": "stream",
     "text": [
      "['Can do every thing.']\n",
      "None\n"
     ]
    }
   ],
   "source": [
    "print(isca.abc())\n",
    "\n"
   ]
  },
  {
   "cell_type": "code",
   "execution_count": null,
   "metadata": {},
   "outputs": [],
   "source": []
  },
  {
   "cell_type": "code",
   "execution_count": null,
   "metadata": {},
   "outputs": [],
   "source": []
  },
  {
   "cell_type": "code",
   "execution_count": null,
   "metadata": {},
   "outputs": [],
   "source": []
  }
 ],
 "metadata": {
  "kernelspec": {
   "display_name": "Python 3",
   "language": "python",
   "name": "python3"
  },
  "language_info": {
   "codemirror_mode": {
    "name": "ipython",
    "version": 3
   },
   "file_extension": ".py",
   "mimetype": "text/x-python",
   "name": "python",
   "nbconvert_exporter": "python",
   "pygments_lexer": "ipython3",
   "version": "3.7.3"
  }
 },
 "nbformat": 4,
 "nbformat_minor": 2
}
