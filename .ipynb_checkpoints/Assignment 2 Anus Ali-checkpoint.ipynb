{
 "cells": [
  {
   "cell_type": "markdown",
   "metadata": {},
   "source": [
    "# Assignment 02"
   ]
  },
  {
   "cell_type": "code",
   "execution_count": 15,
   "metadata": {
    "scrolled": true
   },
   "outputs": [
    {
     "name": "stdout",
     "output_type": "stream",
     "text": [
      "Enter sports you are playing : Cricket\n",
      "game remaining : ['football', 'hockey', 'baseball']\n",
      "game played : ['cricket']\n"
     ]
    }
   ],
   "source": [
    "# Anus Ali\n",
    "# Gulshan campus (9-12)\n",
    "\n",
    "\n",
    "todo_list = ['cricket','football','hockey','baseball']\n",
    "\n",
    "empty_todo_list =[]\n",
    "\n",
    "playing = input(\"Enter sports you are playing : \").lower()\n",
    "if playing in todo_list:\n",
    "    played_index = todo_list.index(playing)\n",
    "    game = todo_list.pop(played_index)\n",
    "    empty_todo_list.append(playing)\n",
    "    print(f\"game remaining : {todo_list}\")\n",
    "    print(f\"game played : {empty_todo_list}\")\n",
    "elif playing not in todo_list:\n",
    "    print(\"item not present in list\")\n",
    "else:\n",
    "    print(\"you are doing worng\") "
   ]
  },
  {
   "cell_type": "code",
   "execution_count": null,
   "metadata": {},
   "outputs": [],
   "source": []
  }
 ],
 "metadata": {
  "kernelspec": {
   "display_name": "Python 3",
   "language": "python",
   "name": "python3"
  },
  "language_info": {
   "codemirror_mode": {
    "name": "ipython",
    "version": 3
   },
   "file_extension": ".py",
   "mimetype": "text/x-python",
   "name": "python",
   "nbconvert_exporter": "python",
   "pygments_lexer": "ipython3",
   "version": "3.7.3"
  }
 },
 "nbformat": 4,
 "nbformat_minor": 2
}
