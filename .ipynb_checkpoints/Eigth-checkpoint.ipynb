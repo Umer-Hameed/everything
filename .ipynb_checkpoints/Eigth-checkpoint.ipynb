{
 "cells": [
  {
   "cell_type": "code",
   "execution_count": 1,
   "metadata": {},
   "outputs": [],
   "source": [
    "class Student():\n",
    "    def __init__(self,name,gender,age,roll_No):\n",
    "        self.Student_name = name\n",
    "        self.Student_gender = gender\n",
    "        self.Student_age = age\n",
    "        self.Student_roll_No = roll_No\n",
    "        self.Student_class = 0\n",
    "    \n",
    "    def fee(self):\n",
    "        print(f'{self.Student_name} has deposit fee.')\n",
    "    def gender(self):\n",
    "        if self.Student_gender == 'Male':\n",
    "            print(f'{self.Student_name} is Boy.')\n",
    "        else:    \n",
    "            print(f'{self.Student_name} is Girl.')\n",
    "    def lunch(self):\n",
    "        print(f'{self.Student_name} has lunch.')\n",
    "    def group(self):\n",
    "        if self.Student_age < 10:\n",
    "            print(f'{self.Student_name} is Kid.')\n",
    "        else:\n",
    "            print(f'{self.Student_name} is teenager.')    \n",
    "    def classes(self):\n",
    "        print(f'{self.Student_name} is in {self.Student_class}')\n",
    "    def update_class(self,classes):\n",
    "        self.Student_class = classes\n",
    "        "
   ]
  },
  {
   "cell_type": "code",
   "execution_count": 2,
   "metadata": {},
   "outputs": [],
   "source": [
    "class smartstudents(Student):\n",
    "    pass"
   ]
  },
  {
   "cell_type": "code",
   "execution_count": 32,
   "metadata": {},
   "outputs": [],
   "source": [
    "s1=smartstudents('Hammad','Male',19,240)"
   ]
  },
  {
   "cell_type": "code",
   "execution_count": 33,
   "metadata": {},
   "outputs": [
    {
     "name": "stdout",
     "output_type": "stream",
     "text": [
      "Hammad has deposit fee.\n"
     ]
    }
   ],
   "source": [
    "s1.fee()"
   ]
  },
  {
   "cell_type": "code",
   "execution_count": 34,
   "metadata": {},
   "outputs": [
    {
     "name": "stdout",
     "output_type": "stream",
     "text": [
      "Hammad is in 0\n"
     ]
    }
   ],
   "source": [
    "s1.classes()"
   ]
  },
  {
   "cell_type": "code",
   "execution_count": 35,
   "metadata": {},
   "outputs": [
    {
     "name": "stdout",
     "output_type": "stream",
     "text": [
      "Hammad is Boy.\n"
     ]
    }
   ],
   "source": [
    "s1.gender()"
   ]
  },
  {
   "cell_type": "code",
   "execution_count": 36,
   "metadata": {},
   "outputs": [],
   "source": [
    "s1.update_class(3)"
   ]
  },
  {
   "cell_type": "code",
   "execution_count": 37,
   "metadata": {},
   "outputs": [
    {
     "name": "stdout",
     "output_type": "stream",
     "text": [
      "Hammad is in 3\n"
     ]
    }
   ],
   "source": [
    "s1.classes()"
   ]
  },
  {
   "cell_type": "code",
   "execution_count": 38,
   "metadata": {},
   "outputs": [],
   "source": [
    "class Car():\n",
    "    def __init__(self, make,model,year):\n",
    "        self.make = make\n",
    "        self.model = model\n",
    "        self.year = year\n",
    "        self.odometer_reading = 0\n",
    "    \n",
    "    def description(self):\n",
    "        full_name= f\"the name of car is {self.make} {self.model},{self.year}\"\n",
    "        return full_name\n",
    "    \n",
    "    def read_odometer(self):\n",
    "        print(f\"The car has run {self.odometer_reading} miles\")\n",
    " \n",
    "    def update_odometer(self, mileage):\n",
    "        self.odometer_reading = mileage\n",
    "        "
   ]
  },
  {
   "cell_type": "code",
   "execution_count": 49,
   "metadata": {},
   "outputs": [],
   "source": [
    "class electriccar(Car):\n",
    "    def __init__(self,make,model,year):\n",
    "        super().__init__(make,model,year)\n",
    "        self.batterySize = 100\n",
    "        self.batteryMan = 'AGS'\n",
    "        \n",
    "    def getBatterySize(self):\n",
    "        print(f'Battery size is: {self.batterySize}')\n",
    "        \n",
    "    def setBatterySize(self, newBatterySize):\n",
    "        self.batterySize=newBatterySize"
   ]
  },
  {
   "cell_type": "code",
   "execution_count": 50,
   "metadata": {},
   "outputs": [],
   "source": [
    "ecar=electriccar('Tesla',88299, 2019)"
   ]
  },
  {
   "cell_type": "code",
   "execution_count": 51,
   "metadata": {},
   "outputs": [
    {
     "data": {
      "text/plain": [
       "100"
      ]
     },
     "execution_count": 51,
     "metadata": {},
     "output_type": "execute_result"
    }
   ],
   "source": [
    "ecar.batterySize"
   ]
  },
  {
   "cell_type": "code",
   "execution_count": 57,
   "metadata": {},
   "outputs": [
    {
     "data": {
      "text/plain": [
       "100"
      ]
     },
     "execution_count": 57,
     "metadata": {},
     "output_type": "execute_result"
    }
   ],
   "source": [
    "ecar.batterySize"
   ]
  },
  {
   "cell_type": "code",
   "execution_count": 64,
   "metadata": {},
   "outputs": [],
   "source": [
    "ecar.setBatterySize(12222)"
   ]
  },
  {
   "cell_type": "code",
   "execution_count": 65,
   "metadata": {},
   "outputs": [
    {
     "name": "stdout",
     "output_type": "stream",
     "text": [
      "Battery size is: 12222\n"
     ]
    }
   ],
   "source": [
    "ecar.getBatterySize()"
   ]
  },
  {
   "cell_type": "code",
   "execution_count": 181,
   "metadata": {},
   "outputs": [],
   "source": [
    "class resturant():\n",
    "    def __init__(self, resName, cusineType):\n",
    "        self.resName=resName\n",
    "        self.cusineType=cusineType\n",
    "        self.numberserved=10\n",
    "    def describe_resturant(self):\n",
    "        print(f\"The name resturant is: {self.resName}\")\n",
    "        print(f\"The cusintype  is: {self.cusineType} \")\n",
    "        \n",
    "    def open_resturant(self ,time):\n",
    "        if(time>24 or  time<10):\n",
    "            print(f\"{self.resName} is close.\")\n",
    "        else:\n",
    "            print(f'{self.resName} is open.')\n",
    "    \n",
    "    def getnumberserved(self):\n",
    "        print(f'{self.numberserved} customers has been served.')\n",
    "    \n",
    "    def setnumberserved(self,numbers):\n",
    "        self.numberserved = numbers \n",
    "        \n",
    "    def incrementnumsreved(self,numbers):\n",
    "        self.numberserved += numbers\n",
    "        "
   ]
  },
  {
   "cell_type": "code",
   "execution_count": 182,
   "metadata": {},
   "outputs": [],
   "source": [
    "r1=resturant('ChinaTown','chineese')"
   ]
  },
  {
   "cell_type": "code",
   "execution_count": 183,
   "metadata": {},
   "outputs": [
    {
     "name": "stdout",
     "output_type": "stream",
     "text": [
      "ChinaTown\n",
      "chineese\n"
     ]
    }
   ],
   "source": [
    "print(r1.resName)\n",
    "print(r1.cusineType)"
   ]
  },
  {
   "cell_type": "code",
   "execution_count": 184,
   "metadata": {},
   "outputs": [
    {
     "data": {
      "text/plain": [
       "'ChinaTown'"
      ]
     },
     "execution_count": 184,
     "metadata": {},
     "output_type": "execute_result"
    }
   ],
   "source": [
    "r1.resName"
   ]
  },
  {
   "cell_type": "code",
   "execution_count": 185,
   "metadata": {},
   "outputs": [
    {
     "data": {
      "text/plain": [
       "'chineese'"
      ]
     },
     "execution_count": 185,
     "metadata": {},
     "output_type": "execute_result"
    }
   ],
   "source": [
    "r1.cusineType"
   ]
  },
  {
   "cell_type": "code",
   "execution_count": 186,
   "metadata": {},
   "outputs": [
    {
     "name": "stdout",
     "output_type": "stream",
     "text": [
      "ChinaTown is open.\n"
     ]
    }
   ],
   "source": [
    "r1.open_resturant(13)"
   ]
  },
  {
   "cell_type": "code",
   "execution_count": 187,
   "metadata": {},
   "outputs": [
    {
     "data": {
      "text/plain": [
       "10"
      ]
     },
     "execution_count": 187,
     "metadata": {},
     "output_type": "execute_result"
    }
   ],
   "source": [
    "r1.numberserved"
   ]
  },
  {
   "cell_type": "code",
   "execution_count": 188,
   "metadata": {},
   "outputs": [
    {
     "data": {
      "text/plain": [
       "100"
      ]
     },
     "execution_count": 188,
     "metadata": {},
     "output_type": "execute_result"
    }
   ],
   "source": [
    "r1.numberserved=100\n",
    "r1.numberserved\n",
    "\n"
   ]
  },
  {
   "cell_type": "code",
   "execution_count": 189,
   "metadata": {},
   "outputs": [],
   "source": [
    "r1.setnumberserved(1)"
   ]
  },
  {
   "cell_type": "code",
   "execution_count": 192,
   "metadata": {},
   "outputs": [
    {
     "name": "stdout",
     "output_type": "stream",
     "text": [
      "2 customers has been served.\n"
     ]
    }
   ],
   "source": [
    "r1.getnumberserved()"
   ]
  },
  {
   "cell_type": "code",
   "execution_count": 195,
   "metadata": {},
   "outputs": [
    {
     "name": "stdout",
     "output_type": "stream",
     "text": [
      "5 customers has been served.\n"
     ]
    }
   ],
   "source": [
    "r1.incrementnumsreved(1)\n",
    "r1.getnumberserved()"
   ]
  },
  {
   "cell_type": "code",
   "execution_count": 212,
   "metadata": {},
   "outputs": [],
   "source": [
    "class icecreamS(resturant):\n",
    "    def __init__(self, resName, cuisinetType):\n",
    "        super(). __init__(resName, cuisinetType)\n",
    "        self.flavour=['Choclate','Vanilla','Tuti Fruti']\n",
    "    def getflavour(self):\n",
    "        print(f'Flavours are:')\n",
    "        for flavour in self.flavour:\n",
    "            print(flavour,end=',')"
   ]
  },
  {
   "cell_type": "code",
   "execution_count": 213,
   "metadata": {},
   "outputs": [],
   "source": [
    "ice1=icecreamS('Peshawri','ItallianIceCream')"
   ]
  },
  {
   "cell_type": "code",
   "execution_count": 214,
   "metadata": {},
   "outputs": [
    {
     "data": {
      "text/plain": [
       "'Peshawri'"
      ]
     },
     "execution_count": 214,
     "metadata": {},
     "output_type": "execute_result"
    }
   ],
   "source": [
    "ice1.resName"
   ]
  },
  {
   "cell_type": "code",
   "execution_count": 215,
   "metadata": {},
   "outputs": [
    {
     "data": {
      "text/plain": [
       "'ItallianIceCream'"
      ]
     },
     "execution_count": 215,
     "metadata": {},
     "output_type": "execute_result"
    }
   ],
   "source": [
    "ice1.cusineType"
   ]
  },
  {
   "cell_type": "code",
   "execution_count": 216,
   "metadata": {},
   "outputs": [
    {
     "name": "stdout",
     "output_type": "stream",
     "text": [
      "Flavours are:\n",
      "Choclate,Vanilla,Tuti Fruti,"
     ]
    }
   ],
   "source": [
    "ice1.getflavour()"
   ]
  },
  {
   "cell_type": "code",
   "execution_count": null,
   "metadata": {},
   "outputs": [],
   "source": []
  }
 ],
 "metadata": {
  "kernelspec": {
   "display_name": "Python 3",
   "language": "python",
   "name": "python3"
  },
  "language_info": {
   "codemirror_mode": {
    "name": "ipython",
    "version": 3
   },
   "file_extension": ".py",
   "mimetype": "text/x-python",
   "name": "python",
   "nbconvert_exporter": "python",
   "pygments_lexer": "ipython3",
   "version": "3.7.3"
  }
 },
 "nbformat": 4,
 "nbformat_minor": 2
}
