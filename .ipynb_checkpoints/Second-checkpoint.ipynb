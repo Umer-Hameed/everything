{
 "cells": [
  {
   "cell_type": "markdown",
   "metadata": {},
   "source": [
    "# Second Class"
   ]
  },
  {
   "cell_type": "markdown",
   "metadata": {},
   "source": [
    "# Math expression; Unfamiliar operators\n"
   ]
  },
  {
   "cell_type": "code",
   "execution_count": 2,
   "metadata": {},
   "outputs": [
    {
     "data": {
      "text/plain": [
       "1"
      ]
     },
     "execution_count": 2,
     "metadata": {},
     "output_type": "execute_result"
    }
   ],
   "source": [
    "10 % 3 #gives remainderS"
   ]
  },
  {
   "cell_type": "code",
   "execution_count": 3,
   "metadata": {},
   "outputs": [
    {
     "data": {
      "text/plain": [
       "5"
      ]
     },
     "execution_count": 3,
     "metadata": {},
     "output_type": "execute_result"
    }
   ],
   "source": [
    "a = 5\n",
    "a"
   ]
  },
  {
   "cell_type": "code",
   "execution_count": 6,
   "metadata": {},
   "outputs": [
    {
     "data": {
      "text/plain": [
       "15"
      ]
     },
     "execution_count": 6,
     "metadata": {},
     "output_type": "execute_result"
    }
   ],
   "source": [
    "a= a+5\n",
    "a"
   ]
  },
  {
   "cell_type": "code",
   "execution_count": 62,
   "metadata": {},
   "outputs": [
    {
     "data": {
      "text/plain": [
       "-240"
      ]
     },
     "execution_count": 62,
     "metadata": {},
     "output_type": "execute_result"
    }
   ],
   "source": [
    "a= a-5\n",
    "a"
   ]
  },
  {
   "cell_type": "code",
   "execution_count": 69,
   "metadata": {},
   "outputs": [
    {
     "data": {
      "text/plain": [
       "1"
      ]
     },
     "execution_count": 69,
     "metadata": {},
     "output_type": "execute_result"
    }
   ],
   "source": [
    "a//2"
   ]
  },
  {
   "cell_type": "code",
   "execution_count": 71,
   "metadata": {},
   "outputs": [
    {
     "data": {
      "text/plain": [
       "2"
      ]
     },
     "execution_count": 71,
     "metadata": {},
     "output_type": "execute_result"
    }
   ],
   "source": [
    "a=1\n",
    "a*=2\n",
    "a"
   ]
  },
  {
   "cell_type": "markdown",
   "metadata": {},
   "source": [
    "# a=2\n",
    "a//=2\n",
    "a"
   ]
  },
  {
   "cell_type": "markdown",
   "metadata": {},
   "source": [
    "# Comparison Operator"
   ]
  },
  {
   "cell_type": "code",
   "execution_count": 65,
   "metadata": {},
   "outputs": [
    {
     "data": {
      "text/plain": [
       "True"
      ]
     },
     "execution_count": 65,
     "metadata": {},
     "output_type": "execute_result"
    }
   ],
   "source": [
    "a=2\n",
    "b=2\n",
    "\n",
    "a==b"
   ]
  },
  {
   "cell_type": "code",
   "execution_count": 66,
   "metadata": {},
   "outputs": [
    {
     "data": {
      "text/plain": [
       "False"
      ]
     },
     "execution_count": 66,
     "metadata": {},
     "output_type": "execute_result"
    }
   ],
   "source": [
    "a !=b"
   ]
  },
  {
   "cell_type": "code",
   "execution_count": 67,
   "metadata": {},
   "outputs": [
    {
     "data": {
      "text/plain": [
       "False"
      ]
     },
     "execution_count": 67,
     "metadata": {},
     "output_type": "execute_result"
    }
   ],
   "source": [
    "a>b"
   ]
  },
  {
   "cell_type": "code",
   "execution_count": 68,
   "metadata": {},
   "outputs": [
    {
     "data": {
      "text/plain": [
       "True"
      ]
     },
     "execution_count": 68,
     "metadata": {},
     "output_type": "execute_result"
    }
   ],
   "source": [
    "a<=b"
   ]
  },
  {
   "cell_type": "markdown",
   "metadata": {},
   "source": [
    "# Math expressions: Eliminating ambiguity"
   ]
  },
  {
   "cell_type": "code",
   "execution_count": 77,
   "metadata": {},
   "outputs": [
    {
     "data": {
      "text/plain": [
       "100"
      ]
     },
     "execution_count": 77,
     "metadata": {},
     "output_type": "execute_result"
    }
   ],
   "source": [
    "10**2 #power"
   ]
  },
  {
   "cell_type": "code",
   "execution_count": 79,
   "metadata": {},
   "outputs": [
    {
     "data": {
      "text/plain": [
       "108.0"
      ]
     },
     "execution_count": 79,
     "metadata": {},
     "output_type": "execute_result"
    }
   ],
   "source": [
    "10*3**2+(12*3)/2"
   ]
  },
  {
   "cell_type": "code",
   "execution_count": 80,
   "metadata": {},
   "outputs": [
    {
     "data": {
      "text/plain": [
       "-24.5"
      ]
     },
     "execution_count": 80,
     "metadata": {},
     "output_type": "execute_result"
    }
   ],
   "source": [
    "2/4-3*9+2"
   ]
  },
  {
   "cell_type": "markdown",
   "metadata": {},
   "source": [
    "# If statement"
   ]
  },
  {
   "cell_type": "code",
   "execution_count": 84,
   "metadata": {},
   "outputs": [
    {
     "name": "stdout",
     "output_type": "stream",
     "text": [
      "First number: 2\n",
      "Second number: 3\n",
      "sum is less than 10\n"
     ]
    }
   ],
   "source": [
    "x= int(input('First number: '))\n",
    "y= int(input('Second number: '))\n",
    "if x+y > 10:\n",
    "    print('sum is greater than 10')\n",
    "else:\n",
    "    print('sum is less than 10')"
   ]
  },
  {
   "cell_type": "code",
   "execution_count": 85,
   "metadata": {},
   "outputs": [
    {
     "name": "stdout",
     "output_type": "stream",
     "text": [
      "First number: 7\n",
      "Second number: 1\n",
      "Wrong input\n"
     ]
    }
   ],
   "source": [
    "x= int(input('First number: '))\n",
    "y= int(input('Second number: '))\n",
    "if x+y > 10:\n",
    "    print('sum is greater than 10')\n",
    "else:\n",
    "    print('Wrong input')"
   ]
  },
  {
   "cell_type": "code",
   "execution_count": 92,
   "metadata": {},
   "outputs": [
    {
     "name": "stdout",
     "output_type": "stream",
     "text": [
      "First number: 7\n",
      "it's a Odd Number\n"
     ]
    }
   ],
   "source": [
    "x= int(input('First number: '))\n",
    "if x%2 == 0 :\n",
    "    print(\"It's a even Number\")\n",
    "else:\n",
    "    print(\"it's a Odd Number\")"
   ]
  },
  {
   "cell_type": "code",
   "execution_count": 99,
   "metadata": {},
   "outputs": [
    {
     "name": "stdout",
     "output_type": "stream",
     "text": [
      "First number: 0\n",
      "It's a Odd Number\n"
     ]
    }
   ],
   "source": [
    "x= int(input('First number: '))\n",
    "if x%3 == 0 :\n",
    "    print(\"It's a Odd Number\")\n",
    "else:\n",
    "    print(\"it's not Odd Number\")"
   ]
  },
  {
   "cell_type": "code",
   "execution_count": 103,
   "metadata": {},
   "outputs": [
    {
     "name": "stdout",
     "output_type": "stream",
     "text": [
      "Enter any number: 9\n",
      "Enter second number: 0\n",
      "sum is less than 10\n"
     ]
    }
   ],
   "source": [
    "x= int(input('Enter any number: '))\n",
    "y= int(input('Enter second number: '))\n",
    "if x+y > 10:\n",
    "    print('sum is greater than 10')\n",
    "else:\n",
    "    print('sum is less than 10')"
   ]
  },
  {
   "cell_type": "code",
   "execution_count": 16,
   "metadata": {},
   "outputs": [
    {
     "name": "stdout",
     "output_type": "stream",
     "text": [
      "NIC mujood hain? : ys\n",
      "NIC ly kr aao.\n"
     ]
    }
   ],
   "source": [
    "NIC=input('NIC mujood hain? : ').lower()\n",
    "\n",
    "if NIC ==\"yes\":\n",
    "    print('Andar Jao Bhai ')\n",
    "    voter=input(\"Voter list m name hy? : \").lower()\n",
    "    if voter==\"yes\":\n",
    "        print(\"Cast your Vote.\")\n",
    "    else:\n",
    "        print(\"Dafa ho jao\")\n",
    "else:\n",
    "    print(\"NIC ly kr aao.\")     "
   ]
  },
  {
   "cell_type": "code",
   "execution_count": null,
   "metadata": {},
   "outputs": [],
   "source": [
    "NIC=input('NIC mujood hain? : ')\n",
    "\n",
    "if NIC ==\"yes\":\n",
    "    print('Andar Jao Bhai ')\n",
    "    voter=input(\"Voter list m name hy? : \")\n",
    "    if voter==\"yes\":\n",
    "        print(\"Cast your Vote.\")\n",
    "    else:\n",
    "        print(\"Dafa ho jao\")\n",
    "else:\n",
    "    print(\"NIC ly kr aao.\")     "
   ]
  },
  {
   "cell_type": "code",
   "execution_count": 29,
   "metadata": {},
   "outputs": [
    {
     "name": "stdout",
     "output_type": "stream",
     "text": [
      "Do you have ticket? : yes\n",
      "How old are you? : 13\n",
      "You are under age.\n"
     ]
    }
   ],
   "source": [
    "Ticket=input('Do you have ticket? : ')\n",
    "\n",
    "if Ticket =='yes':\n",
    "    Age=int(input('How old are you? : '))\n",
    "    if Age<=20:\n",
    "        print('You are under age.')\n",
    "    else:\n",
    "        print('Come sir.')\n",
    "else:\n",
    "    print('Go and buy ticket.')\n",
    "    "
   ]
  },
  {
   "cell_type": "code",
   "execution_count": 35,
   "metadata": {},
   "outputs": [
    {
     "name": "stdout",
     "output_type": "stream",
     "text": [
      "First number: 8\n",
      "Second number: 1\n",
      "input are invalid.\n"
     ]
    }
   ],
   "source": [
    "x = int(input('First number: '))\n",
    "y = int(input('Second number: '))\n",
    "\n",
    "if x+y <0:\n",
    "    print('input are valid.')\n",
    "elif x+y >10:\n",
    "    print('input are valid.')\n",
    "elif x+y>100:\n",
    "    print('input are valid.')\n",
    "else:\n",
    "    print('input are invalid.')"
   ]
  },
  {
   "cell_type": "code",
   "execution_count": 31,
   "metadata": {},
   "outputs": [
    {
     "name": "stdout",
     "output_type": "stream",
     "text": [
      "First number: 19\n",
      "Second number: 92\n",
      "input are valid.\n"
     ]
    }
   ],
   "source": [
    "x = int(input('First number: '))\n",
    "y = int(input('Second number: '))\n",
    "\n",
    "if x+y <0:\n",
    "    print('input are valid.')\n",
    "elif x+y >10:\n",
    "    print('input are valid.')\n",
    "elif x+y>100:\n",
    "    print('input are valid.')\n",
    "else:\n",
    "    print('put ar invaled.')"
   ]
  },
  {
   "cell_type": "markdown",
   "metadata": {},
   "source": [
    "# Testing set of conditions\n"
   ]
  },
  {
   "cell_type": "markdown",
   "metadata": {},
   "source": [
    "# Logical 'AND' Logical\"OR\" Operator"
   ]
  },
  {
   "cell_type": "code",
   "execution_count": 2,
   "metadata": {},
   "outputs": [
    {
     "name": "stdout",
     "output_type": "stream",
     "text": [
      "NIC mujood hain? : yes\n",
      "Voter list m name hy? : no\n",
      "NIC ly kr aao.\n"
     ]
    }
   ],
   "source": [
    "NIC=input('NIC mujood hain? : ')\n",
    "voter=input(\"Voter list m name hy? : \")\n",
    "if NIC ==\"yes\" and voter==\"yes\":\n",
    "    print('Andar Jao Bhai ')\n",
    "else:\n",
    "    print(\"NIC ly kr aao.\")     "
   ]
  },
  {
   "cell_type": "markdown",
   "metadata": {},
   "source": [
    "# Comment"
   ]
  },
  {
   "cell_type": "code",
   "execution_count": null,
   "metadata": {},
   "outputs": [],
   "source": [
    "#user sy input lena hy.\n",
    "NIC=input('NIC mujood hain? : ')\n",
    "voter=input(\"Voter list m name hy? : \")\n",
    "if NIC ==\"yes\" and voter==\"yes\":\n",
    "    print('Andar Jao Bhai ')\n",
    "else:\n",
    "    print(\"NIC ly kr aao.\")     "
   ]
  },
  {
   "cell_type": "code",
   "execution_count": null,
   "metadata": {},
   "outputs": [],
   "source": [
    "#user sy input lena hy.\n",
    "NIC=input('NIC mujood hain? : ')\n",
    "voter=input(\"Voter list m name hy? : \")\n",
    "if NIC ==\"yes\" and voter==\"yes\":\n",
    "    print('Andar Jao Bhai ')\n",
    "else:\n",
    "    print(\"NIC ly kr aao.\")     "
   ]
  },
  {
   "cell_type": "code",
   "execution_count": null,
   "metadata": {},
   "outputs": [],
   "source": []
  },
  {
   "cell_type": "code",
   "execution_count": null,
   "metadata": {},
   "outputs": [],
   "source": []
  }
 ],
 "metadata": {
  "kernelspec": {
   "display_name": "Python 3",
   "language": "python",
   "name": "python3"
  },
  "language_info": {
   "codemirror_mode": {
    "name": "ipython",
    "version": 3
   },
   "file_extension": ".py",
   "mimetype": "text/x-python",
   "name": "python",
   "nbconvert_exporter": "python",
   "pygments_lexer": "ipython3",
   "version": "3.7.3"
  }
 },
 "nbformat": 4,
 "nbformat_minor": 2
}
