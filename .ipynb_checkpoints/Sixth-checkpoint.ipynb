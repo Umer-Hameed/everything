{
 "cells": [
  {
   "cell_type": "markdown",
   "metadata": {},
   "source": [
    "# args and *kwargs\n"
   ]
  },
  {
   "cell_type": "code",
   "execution_count": 1,
   "metadata": {},
   "outputs": [],
   "source": [
    "def pizza(size, *toppings):\n",
    "    print(size)\n",
    "    print(toppings)"
   ]
  },
  {
   "cell_type": "code",
   "execution_count": 2,
   "metadata": {},
   "outputs": [
    {
     "name": "stdout",
     "output_type": "stream",
     "text": [
      "12\n",
      "('black pepper',)\n"
     ]
    }
   ],
   "source": [
    "pizza(12,'black pepper')"
   ]
  },
  {
   "cell_type": "code",
   "execution_count": 3,
   "metadata": {},
   "outputs": [
    {
     "name": "stdout",
     "output_type": "stream",
     "text": [
      "9\n",
      "('tikka', 'black pepper')\n"
     ]
    }
   ],
   "source": [
    "pizza(9,'tikka','black pepper')"
   ]
  },
  {
   "cell_type": "code",
   "execution_count": 10,
   "metadata": {},
   "outputs": [],
   "source": [
    "def pizza(size, *toppings):\n",
    "    print(f'Your pizza size is {size}')\n",
    "    for topping in toppings:\n",
    "        print(f'Your chossen toppings are {toppings} ')"
   ]
  },
  {
   "cell_type": "code",
   "execution_count": 11,
   "metadata": {},
   "outputs": [
    {
     "name": "stdout",
     "output_type": "stream",
     "text": [
      "Your pizza size is 10\n",
      "Your chossen toppings are ('extra chesse',) \n"
     ]
    }
   ],
   "source": [
    "pizza(10,'extra chesse')"
   ]
  },
  {
   "cell_type": "code",
   "execution_count": 12,
   "metadata": {},
   "outputs": [],
   "source": [
    "def pizza(size, *toppings):\n",
    "    print(f'Your pizza size is {size}')\n",
    "    print(f'Your chossen toppings are {toppings} ')"
   ]
  },
  {
   "cell_type": "code",
   "execution_count": 13,
   "metadata": {},
   "outputs": [
    {
     "name": "stdout",
     "output_type": "stream",
     "text": [
      "Your pizza size is 10\n",
      "Your chossen toppings are ('extra chesse',) \n"
     ]
    }
   ],
   "source": [
    "pizza(10,'extra chesse')"
   ]
  },
  {
   "cell_type": "code",
   "execution_count": 30,
   "metadata": {},
   "outputs": [],
   "source": [
    "def buffet(name,payment, *menu):\n",
    "    print(f'Welcome {name}')\n",
    "    if payment == 'paid':\n",
    "        print('Sir what will you like to order.')\n",
    "        print(f'Here is the menu list: {menu}''.')\n",
    "    else:\n",
    "        print('Please pay the amount first''.')"
   ]
  },
  {
   "cell_type": "code",
   "execution_count": 31,
   "metadata": {},
   "outputs": [
    {
     "name": "stdout",
     "output_type": "stream",
     "text": [
      "Welcome Umer\n",
      "Sir what will you like to order.\n",
      "Here is the menu list: ('Tikka', 'Biryani', 'Kheer', 'Kerhai').\n"
     ]
    }
   ],
   "source": [
    "buffet('Umer','paid','Tikka','Biryani','Kheer','Kerhai')"
   ]
  },
  {
   "cell_type": "code",
   "execution_count": 32,
   "metadata": {},
   "outputs": [
    {
     "name": "stdout",
     "output_type": "stream",
     "text": [
      "Welcome Umer\n",
      "Please pay the amount first.\n"
     ]
    }
   ],
   "source": [
    "buffet('Umer','not paid','Tikka','Biryani','Kheer','Kerhai')"
   ]
  },
  {
   "cell_type": "code",
   "execution_count": 47,
   "metadata": {},
   "outputs": [],
   "source": [
    "def profile(name,fname,**otherinfo):\n",
    "    print(name,fname, end='. ')\n",
    "    print(otherinfo, end='.')"
   ]
  },
  {
   "cell_type": "code",
   "execution_count": 48,
   "metadata": {},
   "outputs": [
    {
     "name": "stdout",
     "output_type": "stream",
     "text": [
      "Umer Hameed. {'age': 17, 'contact': 923327888802}."
     ]
    }
   ],
   "source": [
    "profile('Umer','Hameed', age = 17, contact = +923327888802)"
   ]
  },
  {
   "cell_type": "markdown",
   "metadata": {},
   "source": [
    "# Global scope and Local scope"
   ]
  },
  {
   "cell_type": "code",
   "execution_count": 49,
   "metadata": {},
   "outputs": [
    {
     "name": "stdout",
     "output_type": "stream",
     "text": [
      "Pakistan zindabad\n"
     ]
    }
   ],
   "source": [
    "myName='Umer Hameed'\n",
    "print('Pakistan zindabad')"
   ]
  },
  {
   "cell_type": "code",
   "execution_count": 50,
   "metadata": {},
   "outputs": [
    {
     "name": "stdout",
     "output_type": "stream",
     "text": [
      "Pakistan zindabad\n"
     ]
    }
   ],
   "source": [
    "print('Pakistan zindabad')"
   ]
  },
  {
   "cell_type": "code",
   "execution_count": 51,
   "metadata": {},
   "outputs": [
    {
     "name": "stdout",
     "output_type": "stream",
     "text": [
      "Pakistan zindabad\n"
     ]
    }
   ],
   "source": [
    "print('Pakistan zindabad')"
   ]
  },
  {
   "cell_type": "code",
   "execution_count": 53,
   "metadata": {},
   "outputs": [
    {
     "name": "stdout",
     "output_type": "stream",
     "text": [
      "Pakistan zindabad\n"
     ]
    }
   ],
   "source": [
    "print('Pakistan zindabad')"
   ]
  },
  {
   "cell_type": "code",
   "execution_count": 55,
   "metadata": {},
   "outputs": [
    {
     "data": {
      "text/plain": [
       "'Umer Hameed'"
      ]
     },
     "execution_count": 55,
     "metadata": {},
     "output_type": "execute_result"
    }
   ],
   "source": [
    "myName #Global scope"
   ]
  },
  {
   "cell_type": "code",
   "execution_count": 80,
   "metadata": {},
   "outputs": [],
   "source": [
    "city='Karachi'"
   ]
  },
  {
   "cell_type": "code",
   "execution_count": 86,
   "metadata": {},
   "outputs": [
    {
     "name": "stdout",
     "output_type": "stream",
     "text": [
      "Karachi\n"
     ]
    }
   ],
   "source": [
    "def country():\n",
    "    print(city)\n",
    "country()    "
   ]
  },
  {
   "cell_type": "code",
   "execution_count": 96,
   "metadata": {},
   "outputs": [
    {
     "name": "stdout",
     "output_type": "stream",
     "text": [
      "queeta\n"
     ]
    }
   ],
   "source": [
    "def country():\n",
    "    city='queeta'                            #IT priortize the block which is being run\n",
    "    print(city)\n",
    "country()    "
   ]
  },
  {
   "cell_type": "code",
   "execution_count": 88,
   "metadata": {},
   "outputs": [
    {
     "data": {
      "text/plain": [
       "'Karachi'"
      ]
     },
     "execution_count": 88,
     "metadata": {},
     "output_type": "execute_result"
    }
   ],
   "source": [
    "city"
   ]
  },
  {
   "cell_type": "code",
   "execution_count": 82,
   "metadata": {},
   "outputs": [],
   "source": [
    "def abc():\n",
    "    Myname=('Umer Hameed')\n",
    "    print(Myname)"
   ]
  },
  {
   "cell_type": "code",
   "execution_count": 83,
   "metadata": {},
   "outputs": [
    {
     "name": "stdout",
     "output_type": "stream",
     "text": [
      "Umer Hameed\n"
     ]
    }
   ],
   "source": [
    "abc()"
   ]
  },
  {
   "cell_type": "code",
   "execution_count": 85,
   "metadata": {},
   "outputs": [
    {
     "ename": "NameError",
     "evalue": "name 'Myname' is not defined",
     "output_type": "error",
     "traceback": [
      "\u001b[1;31m---------------------------------------------------------------------------\u001b[0m",
      "\u001b[1;31mNameError\u001b[0m                                 Traceback (most recent call last)",
      "\u001b[1;32m<ipython-input-85-578f6f2ba4e9>\u001b[0m in \u001b[0;36m<module>\u001b[1;34m\u001b[0m\n\u001b[1;32m----> 1\u001b[1;33m \u001b[0mMyname\u001b[0m \u001b[1;31m#local scope\u001b[0m\u001b[1;33m\u001b[0m\u001b[1;33m\u001b[0m\u001b[0m\n\u001b[0m",
      "\u001b[1;31mNameError\u001b[0m: name 'Myname' is not defined"
     ]
    }
   ],
   "source": [
    "Myname #local scope"
   ]
  },
  {
   "cell_type": "code",
   "execution_count": 90,
   "metadata": {},
   "outputs": [],
   "source": [
    "def xyz():\n",
    "    x='apple'\n",
    "    if x=='apple':\n",
    "        y='orange'\n",
    "        print(x)\n",
    "     "
   ]
  },
  {
   "cell_type": "code",
   "execution_count": 91,
   "metadata": {},
   "outputs": [
    {
     "name": "stdout",
     "output_type": "stream",
     "text": [
      "apple\n"
     ]
    }
   ],
   "source": [
    "xyz()"
   ]
  },
  {
   "cell_type": "code",
   "execution_count": 94,
   "metadata": {},
   "outputs": [],
   "source": [
    "def xyz():\n",
    "    x='apple'\n",
    "    if x=='apple':\n",
    "        y='orange'\n",
    "        print(y)\n",
    "     "
   ]
  },
  {
   "cell_type": "code",
   "execution_count": 95,
   "metadata": {},
   "outputs": [
    {
     "name": "stdout",
     "output_type": "stream",
     "text": [
      "orange\n"
     ]
    }
   ],
   "source": [
    "xyz()"
   ]
  },
  {
   "cell_type": "code",
   "execution_count": 104,
   "metadata": {},
   "outputs": [
    {
     "name": "stdout",
     "output_type": "stream",
     "text": [
      "banana\n"
     ]
    }
   ],
   "source": [
    "def fruits():\n",
    "    fruit = 'banana'\n",
    "    print(fruit)\n",
    "fruits()    "
   ]
  },
  {
   "cell_type": "code",
   "execution_count": 105,
   "metadata": {},
   "outputs": [
    {
     "name": "stdout",
     "output_type": "stream",
     "text": [
      "banana\n"
     ]
    }
   ],
   "source": [
    "def fruits():\n",
    "    global fruit\n",
    "    fruit= 'banana'\n",
    "    print(fruit)\n",
    "fruits()    "
   ]
  },
  {
   "cell_type": "code",
   "execution_count": 106,
   "metadata": {},
   "outputs": [
    {
     "data": {
      "text/plain": [
       "'banana'"
      ]
     },
     "execution_count": 106,
     "metadata": {},
     "output_type": "execute_result"
    }
   ],
   "source": [
    "fruit # it became global"
   ]
  },
  {
   "cell_type": "markdown",
   "metadata": {},
   "source": [
    "# Use of function as variable"
   ]
  },
  {
   "cell_type": "code",
   "execution_count": 111,
   "metadata": {},
   "outputs": [],
   "source": [
    "def add():\n",
    "    a=3+4\n",
    "    return a\n",
    "def sub():\n",
    "    b=8-9\n",
    "    return b\n"
   ]
  },
  {
   "cell_type": "code",
   "execution_count": 112,
   "metadata": {},
   "outputs": [],
   "source": [
    "result = add()+sub()"
   ]
  },
  {
   "cell_type": "code",
   "execution_count": 114,
   "metadata": {},
   "outputs": [
    {
     "name": "stdout",
     "output_type": "stream",
     "text": [
      "6\n"
     ]
    }
   ],
   "source": [
    "print(add()+sub())"
   ]
  },
  {
   "cell_type": "code",
   "execution_count": 142,
   "metadata": {},
   "outputs": [],
   "source": [
    "def commisioncalculator(sales_value):\n",
    "    if sales_value>100000:\n",
    "        percentage = 20\n",
    "    elif sales_value>50000:\n",
    "        percentage = 10\n",
    "    elif sales_value>10000:\n",
    "        percentage=5\n",
    "    else:\n",
    "        percentage = 0\n",
    "    commision = sales_value/100*percentage\n",
    "    return commision\n",
    "    \n",
    "def grosscalc(basic,sales_value):\n",
    "    grosspay= basic + commisioncalculator(sales_value)\n",
    "\n",
    "    return grosspay\n",
    "    "
   ]
  },
  {
   "cell_type": "code",
   "execution_count": 143,
   "metadata": {},
   "outputs": [
    {
     "name": "stdout",
     "output_type": "stream",
     "text": [
      "Enter Basic11000\n",
      "Enter Sales250000\n",
      "Your total salary is 61000.0\n"
     ]
    }
   ],
   "source": [
    "basic=int(input('Enter Basic'))\n",
    "sales=int(input('Enter Sales'))\n",
    "\n",
    "pay=grosscalc(basic,sales)\n",
    "print(f'Your total salary is {pay}')"
   ]
  },
  {
   "cell_type": "code",
   "execution_count": 145,
   "metadata": {},
   "outputs": [
    {
     "name": "stdout",
     "output_type": "stream",
     "text": [
      "Your total salary is 27500.0\n"
     ]
    }
   ],
   "source": [
    "pay=grosscalc(25000,50000)\n",
    "print(f'Your total salary is {pay}')"
   ]
  },
  {
   "cell_type": "markdown",
   "metadata": {},
   "source": [
    "# While Loops"
   ]
  },
  {
   "cell_type": "markdown",
   "metadata": {},
   "source": [
    "for loop is bound by range while while loop is not until you interperate\n"
   ]
  },
  {
   "cell_type": "code",
   "execution_count": 2,
   "metadata": {},
   "outputs": [],
   "source": [
    "a=19\n",
    "while a<10:\n",
    "    print('a')"
   ]
  },
  {
   "cell_type": "code",
   "execution_count": 4,
   "metadata": {},
   "outputs": [
    {
     "ename": "SyntaxError",
     "evalue": "invalid syntax (<ipython-input-4-0c93c6f6a30b>, line 8)",
     "output_type": "error",
     "traceback": [
      "\u001b[1;36m  File \u001b[1;32m\"<ipython-input-4-0c93c6f6a30b>\"\u001b[1;36m, line \u001b[1;32m8\u001b[0m\n\u001b[1;33m    if basic='quit':\u001b[0m\n\u001b[1;37m            ^\u001b[0m\n\u001b[1;31mSyntaxError\u001b[0m\u001b[1;31m:\u001b[0m invalid syntax\n"
     ]
    }
   ],
   "source": [
    "flag= True\n",
    "while flag:\n",
    "    basic=int(input('Enter Basic'))\n",
    "    sales=int(input('Enter Sales'))\n",
    "\n",
    "    pay=grosscalc(basic,sales)\n",
    "    print(f'Your total salary is {pay}')\n",
    "    if basic=='quit':\n",
    "        flag=False"
   ]
  },
  {
   "cell_type": "code",
   "execution_count": 6,
   "metadata": {},
   "outputs": [
    {
     "ename": "IndentationError",
     "evalue": "expected an indented block (<ipython-input-6-26a09e658cb3>, line 6)",
     "output_type": "error",
     "traceback": [
      "\u001b[1;36m  File \u001b[1;32m\"<ipython-input-6-26a09e658cb3>\"\u001b[1;36m, line \u001b[1;32m6\u001b[0m\n\u001b[1;33m    flag=False\u001b[0m\n\u001b[1;37m       ^\u001b[0m\n\u001b[1;31mIndentationError\u001b[0m\u001b[1;31m:\u001b[0m expected an indented block\n"
     ]
    }
   ],
   "source": [
    "greetguest\n",
    "flag=True\n",
    "while flag:\n",
    "    name= input('Please tell me your name : {name}')\n",
    "    if name=='q':\n",
    "    flag=False\n",
    "       greetguest(name)"
   ]
  },
  {
   "cell_type": "code",
   "execution_count": null,
   "metadata": {},
   "outputs": [],
   "source": []
  }
 ],
 "metadata": {
  "kernelspec": {
   "display_name": "Python 3",
   "language": "python",
   "name": "python3"
  },
  "language_info": {
   "codemirror_mode": {
    "name": "ipython",
    "version": 3
   },
   "file_extension": ".py",
   "mimetype": "text/x-python",
   "name": "python",
   "nbconvert_exporter": "python",
   "pygments_lexer": "ipython3",
   "version": "3.7.3"
  }
 },
 "nbformat": 4,
 "nbformat_minor": 2
}
