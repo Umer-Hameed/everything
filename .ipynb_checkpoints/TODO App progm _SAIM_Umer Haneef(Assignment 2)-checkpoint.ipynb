{
 "cells": [
  {
   "cell_type": "code",
   "execution_count": null,
   "metadata": {},
   "outputs": [
    {
     "name": "stdout",
     "output_type": "stream",
     "text": [
      "Enter the work you want to do Complete assignment\n",
      "The task is Complete assignment\n",
      "Enter the work you want to do Complete assignment\n",
      "The item is not in the list\n"
     ]
    }
   ],
   "source": [
    "#UMER HANEEF\n",
    "#SAIM 3:30 to 6:30pm\n",
    "# TODO APPLICATION\n",
    "\n",
    "Work_List =[\"Fajar salah\",\"Go for walk\",\"Attend lecture at 9\",\"Complete assignment\",\"Prepare for quiz\",\"Recite Holy Quran\",\n",
    "            \"Buy some Fruits\",\"Eid shopping\"]\n",
    "\n",
    "Current_List=[]\n",
    "\n",
    "\n",
    "a= len(Work_List)\n",
    "x=0\n",
    "while True:\n",
    "        work_todo =input(\"Enter the work you want to do \")\n",
    "        if work_todo in Work_List:\n",
    "            \n",
    "            if x<=a:\n",
    "                index=Work_List.index(work_todo)\n",
    "                element=Work_List.pop(index)\n",
    "                Current_List.append(element)\n",
    "                \n",
    "                print(\"The task is \" + Current_List[x])\n",
    "        \n",
    "        elif x>=a:\n",
    "            print(\"The list is empty now\")\n",
    "    \n",
    "\n",
    "        else:\n",
    "            print(\"The item is not in the list\")\n",
    "    \n",
    "        x=x+1"
   ]
  },
  {
   "cell_type": "code",
   "execution_count": null,
   "metadata": {},
   "outputs": [],
   "source": []
  },
  {
   "cell_type": "code",
   "execution_count": null,
   "metadata": {},
   "outputs": [],
   "source": []
  },
  {
   "cell_type": "code",
   "execution_count": null,
   "metadata": {},
   "outputs": [],
   "source": []
  },
  {
   "cell_type": "code",
   "execution_count": null,
   "metadata": {},
   "outputs": [],
   "source": []
  }
 ],
 "metadata": {
  "kernelspec": {
   "display_name": "Python 3",
   "language": "python",
   "name": "python3"
  },
  "language_info": {
   "codemirror_mode": {
    "name": "ipython",
    "version": 3
   },
   "file_extension": ".py",
   "mimetype": "text/x-python",
   "name": "python",
   "nbconvert_exporter": "python",
   "pygments_lexer": "ipython3",
   "version": "3.7.3"
  }
 },
 "nbformat": 4,
 "nbformat_minor": 2
}
