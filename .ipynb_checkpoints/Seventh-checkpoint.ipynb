{
 "cells": [
  {
   "cell_type": "markdown",
   "metadata": {},
   "source": [
    "# Object Oriented Programming"
   ]
  },
  {
   "cell_type": "markdown",
   "metadata": {},
   "source": [
    "# Classesss"
   ]
  },
  {
   "cell_type": "code",
   "execution_count": 1,
   "metadata": {},
   "outputs": [],
   "source": [
    "class patient():                        #pass means execute the program the body wil come later.\n",
    "    pass"
   ]
  },
  {
   "cell_type": "code",
   "execution_count": 2,
   "metadata": {},
   "outputs": [],
   "source": [
    "class patient():\n",
    "    def __init__(self,name,gender,age,disease):                            #(__)is named as dunder\n",
    "   \n",
    "      #Atributes>>>>variables\n",
    "        self.patient_name = name\n",
    "        self.patient_gender = gender\n",
    "        self.patient_age = age\n",
    "        self.patient_disease = disease \n",
    "        \n",
    "        #Behaviour   >>>>>>functions\n",
    "        \n",
    "    def takes_meds(self):\n",
    "        print(f\"{self.patient_name} is taking medicine.\")\n",
    "    def takes_fee(self):\n",
    "        print(f'{self.patient_name} is depositing fee.')\n",
    "    def takes_rests(self):\n",
    "        print(f'{self.patient_name} is taking rest.')\n",
    "    def can_die(self):\n",
    "        print(f'{self.patient_name} is now dead.')\n",
    "    "
   ]
  },
  {
   "cell_type": "code",
   "execution_count": 3,
   "metadata": {},
   "outputs": [],
   "source": [
    "p1= patient('Gabbar','male',50,'Cancer')"
   ]
  },
  {
   "cell_type": "code",
   "execution_count": 4,
   "metadata": {},
   "outputs": [],
   "source": [
    "p2= patient('Samba','male',38,'Aids')"
   ]
  },
  {
   "cell_type": "code",
   "execution_count": 5,
   "metadata": {},
   "outputs": [
    {
     "data": {
      "text/plain": [
       "'Gabbar'"
      ]
     },
     "execution_count": 5,
     "metadata": {},
     "output_type": "execute_result"
    }
   ],
   "source": [
    "p1.patient_name"
   ]
  },
  {
   "cell_type": "code",
   "execution_count": 6,
   "metadata": {},
   "outputs": [
    {
     "name": "stdout",
     "output_type": "stream",
     "text": [
      "Gabbar is taking medicine.\n"
     ]
    }
   ],
   "source": [
    "p1.takes_meds()"
   ]
  },
  {
   "cell_type": "code",
   "execution_count": 7,
   "metadata": {},
   "outputs": [
    {
     "name": "stdout",
     "output_type": "stream",
     "text": [
      "Samba is taking rest.\n"
     ]
    }
   ],
   "source": [
    "p2.takes_rests()"
   ]
  },
  {
   "cell_type": "code",
   "execution_count": 8,
   "metadata": {},
   "outputs": [],
   "source": [
    "class Student():\n",
    "    def __init__(self,name,gender,age,roll_No):\n",
    "        self.Student_name = name\n",
    "        self.Student_gender = gender\n",
    "        self.Student_age = age\n",
    "        self.Student_roll_No = roll_No\n",
    "    \n",
    "    def fee(self):\n",
    "        print(f'{self.Student_name} has deposit fee.')\n",
    "    def gender(self):\n",
    "        if self.Student_gender == 'Male':\n",
    "            print(f'{self.Student_name} is Boy.')\n",
    "        else:    \n",
    "            print(f'{self.Student_name} is Girl.')\n",
    "    def lunch(self):\n",
    "        print(f'{self.Student_name} has lunch.')\n",
    "    def group(self):\n",
    "        if self.Student_age < 10:\n",
    "            print(f'{self.Student_name} is Kid.')\n",
    "        else:\n",
    "            print(f'{self.Student_name} is teenager.')             "
   ]
  },
  {
   "cell_type": "code",
   "execution_count": 9,
   "metadata": {},
   "outputs": [],
   "source": [
    "s1= Student(\"Umer\",\"Male\",17,420)"
   ]
  },
  {
   "cell_type": "code",
   "execution_count": 10,
   "metadata": {},
   "outputs": [
    {
     "name": "stdout",
     "output_type": "stream",
     "text": [
      "Umer has lunch.\n"
     ]
    }
   ],
   "source": [
    "s1.lunch()"
   ]
  },
  {
   "cell_type": "code",
   "execution_count": 11,
   "metadata": {},
   "outputs": [
    {
     "name": "stdout",
     "output_type": "stream",
     "text": [
      "Umer is teenager.\n"
     ]
    }
   ],
   "source": [
    "s1.group()"
   ]
  },
  {
   "cell_type": "code",
   "execution_count": 12,
   "metadata": {},
   "outputs": [],
   "source": [
    "s2= Student('Sana','Female',5,290)"
   ]
  },
  {
   "cell_type": "code",
   "execution_count": 13,
   "metadata": {},
   "outputs": [
    {
     "name": "stdout",
     "output_type": "stream",
     "text": [
      "Sana is Kid.\n"
     ]
    }
   ],
   "source": [
    "s2.group()"
   ]
  },
  {
   "cell_type": "code",
   "execution_count": 14,
   "metadata": {},
   "outputs": [
    {
     "name": "stdout",
     "output_type": "stream",
     "text": [
      "Sana is Girl.\n"
     ]
    }
   ],
   "source": [
    "s2.gender()"
   ]
  },
  {
   "cell_type": "markdown",
   "metadata": {},
   "source": [
    "# Setting a default parameter"
   ]
  },
  {
   "cell_type": "code",
   "execution_count": 15,
   "metadata": {},
   "outputs": [],
   "source": [
    "class Student():\n",
    "    def __init__(self,name,gender,age,roll_No= 420):\n",
    "        self.Student_name = name\n",
    "        self.Student_gender = gender\n",
    "        self.Student_age = age\n",
    "        self.Student_roll_No = roll_No\n",
    "    \n",
    "    def fee(self):\n",
    "        print(f'{self.Student_name} has deposit fee.')\n",
    "    def gender(self):\n",
    "        if self.Student_gender == 'Male':\n",
    "            print(f'{self.Student_name} is Boy.')\n",
    "        else:    \n",
    "            print(f'{self.Student_name} is Girl.')\n",
    "    def lunch(self):\n",
    "        print(f'{self.Student_name} has lunch.')\n",
    "    def group(self):\n",
    "        if self.Student_age < 10:\n",
    "            print(f'{self.Student_name} is Kid.')\n",
    "        else:\n",
    "            print(f'{self.Student_name} is teenager.')             "
   ]
  },
  {
   "cell_type": "code",
   "execution_count": 16,
   "metadata": {},
   "outputs": [],
   "source": [
    "s3= Student(\"ali\",\"Male\",10)"
   ]
  },
  {
   "cell_type": "code",
   "execution_count": 17,
   "metadata": {},
   "outputs": [
    {
     "data": {
      "text/plain": [
       "420"
      ]
     },
     "execution_count": 17,
     "metadata": {},
     "output_type": "execute_result"
    }
   ],
   "source": [
    "s3.Student_roll_No"
   ]
  },
  {
   "cell_type": "markdown",
   "metadata": {},
   "source": [
    "# Adding a default value to attribute"
   ]
  },
  {
   "cell_type": "code",
   "execution_count": 18,
   "metadata": {},
   "outputs": [],
   "source": [
    "class Student():\n",
    "    def __init__(self,name,gender,age,roll_No):\n",
    "        self.Student_name = name\n",
    "        self.Student_gender = gender\n",
    "        self.Student_age = age\n",
    "        self.Student_roll_No = roll_No\n",
    "        self.Student_class = 0\n",
    "    \n",
    "    def fee(self):\n",
    "        print(f'{self.Student_name} has deposit fee.')\n",
    "    def gender(self):\n",
    "        if self.Student_gender == 'Male':\n",
    "            print(f'{self.Student_name} is Boy.')\n",
    "        else:    \n",
    "            print(f'{self.Student_name} is Girl.')\n",
    "    def lunch(self):\n",
    "        print(f'{self.Student_name} has lunch.')\n",
    "    def group(self):\n",
    "        if self.Student_age < 10:\n",
    "            print(f'{self.Student_name} is Kid.')\n",
    "        else:\n",
    "            print(f'{self.Student_name} is teenager.')    \n",
    "    def classes(self):\n",
    "        print(f'{self.Student_name} is in {self.Student_class}')\n",
    "    def update_class(self,classes):\n",
    "        self.Student_class = classes\n",
    "        "
   ]
  },
  {
   "cell_type": "code",
   "execution_count": 19,
   "metadata": {},
   "outputs": [],
   "source": [
    "s1=Student(\"hammad\",\"Male\",18,12)"
   ]
  },
  {
   "cell_type": "code",
   "execution_count": 20,
   "metadata": {},
   "outputs": [
    {
     "name": "stdout",
     "output_type": "stream",
     "text": [
      "hammad is in 0\n"
     ]
    }
   ],
   "source": [
    "s1.classes()"
   ]
  },
  {
   "cell_type": "code",
   "execution_count": 21,
   "metadata": {},
   "outputs": [],
   "source": [
    "s1.update_class(3)"
   ]
  },
  {
   "cell_type": "code",
   "execution_count": 22,
   "metadata": {},
   "outputs": [
    {
     "name": "stdout",
     "output_type": "stream",
     "text": [
      "hammad is in 3\n"
     ]
    }
   ],
   "source": [
    "s1.classes()"
   ]
  },
  {
   "cell_type": "code",
   "execution_count": 23,
   "metadata": {},
   "outputs": [],
   "source": [
    "s1.Student_class=2"
   ]
  },
  {
   "cell_type": "code",
   "execution_count": 24,
   "metadata": {},
   "outputs": [
    {
     "name": "stdout",
     "output_type": "stream",
     "text": [
      "hammad is in 2\n"
     ]
    }
   ],
   "source": [
    "s1.classes()"
   ]
  },
  {
   "cell_type": "markdown",
   "metadata": {},
   "source": [
    "# Inheritance"
   ]
  },
  {
   "cell_type": "markdown",
   "metadata": {},
   "source": [
    "# Code reuseability "
   ]
  },
  {
   "cell_type": "markdown",
   "metadata": {},
   "source": [
    "It inherits all features of parent class."
   ]
  },
  {
   "cell_type": "code",
   "execution_count": 25,
   "metadata": {},
   "outputs": [],
   "source": [
    "class SmartStudent(Student):\n",
    "    def __init__(self,name,gender,age,roll_No):\n",
    "        super().__init__(name,gender,age,roll_No)\n",
    "    "
   ]
  },
  {
   "cell_type": "code",
   "execution_count": 26,
   "metadata": {},
   "outputs": [],
   "source": [
    "s1= SmartStudent(\"Hammad\",\"Male\",18,13)"
   ]
  },
  {
   "cell_type": "code",
   "execution_count": 27,
   "metadata": {
    "scrolled": true
   },
   "outputs": [
    {
     "data": {
      "text/plain": [
       "'Male'"
      ]
     },
     "execution_count": 27,
     "metadata": {},
     "output_type": "execute_result"
    }
   ],
   "source": [
    "s1.Student_gender"
   ]
  },
  {
   "cell_type": "code",
   "execution_count": 28,
   "metadata": {},
   "outputs": [
    {
     "data": {
      "text/plain": [
       "13"
      ]
     },
     "execution_count": 28,
     "metadata": {},
     "output_type": "execute_result"
    }
   ],
   "source": [
    "s1.Student_roll_No"
   ]
  },
  {
   "cell_type": "code",
   "execution_count": null,
   "metadata": {},
   "outputs": [],
   "source": []
  }
 ],
 "metadata": {
  "kernelspec": {
   "display_name": "Python 3",
   "language": "python",
   "name": "python3"
  },
  "language_info": {
   "codemirror_mode": {
    "name": "ipython",
    "version": 3
   },
   "file_extension": ".py",
   "mimetype": "text/x-python",
   "name": "python",
   "nbconvert_exporter": "python",
   "pygments_lexer": "ipython3",
   "version": "3.7.3"
  }
 },
 "nbformat": 4,
 "nbformat_minor": 2
}
