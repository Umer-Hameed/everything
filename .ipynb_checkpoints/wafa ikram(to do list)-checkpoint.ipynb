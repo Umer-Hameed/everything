{
 "cells": [
  {
   "cell_type": "markdown",
   "metadata": {},
   "source": [
    "# TO DO LIST"
   ]
  },
  {
   "cell_type": "code",
   "execution_count": 6,
   "metadata": {},
   "outputs": [
    {
     "name": "stdout",
     "output_type": "stream",
     "text": [
      "enter today's task nap\n",
      "your pending task is:, ['wakeup', 'sehri', 'fasting', 'prayers', 'nap', 'iftar', 'sleep']\n",
      "task you have completed:['nap']\n"
     ]
    }
   ],
   "source": [
    "task_list=['wakeup','sehri','fasting','prayers','nap','iftar','sleep']\n",
    "empty_list=[]\n",
    "task_select=input(\"enter today's task \")\n",
    "if task_select in task_list:\n",
    "    store_task=task_list.index(task_select)\n",
    "    empty_list.append(task_select)\n",
    "    print(f\"your pending task is:, {task_list}\")\n",
    "    print(f\"task you have completed:{empty_list}\")\n",
    "else:\n",
    "    print('task which is not mentioned in the list')\n"
   ]
  }
 ],
 "metadata": {
  "kernelspec": {
   "display_name": "Python 3",
   "language": "python",
   "name": "python3"
  },
  "language_info": {
   "codemirror_mode": {
    "name": "ipython",
    "version": 3
   },
   "file_extension": ".py",
   "mimetype": "text/x-python",
   "name": "python",
   "nbconvert_exporter": "python",
   "pygments_lexer": "ipython3",
   "version": "3.7.3"
  }
 },
 "nbformat": 4,
 "nbformat_minor": 2
}
