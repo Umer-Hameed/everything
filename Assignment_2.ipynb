{
 "cells": [
  {
   "cell_type": "markdown",
   "metadata": {
    "colab_type": "text",
    "id": "hnBsRf0ioxTk"
   },
   "source": [
    "# Q1:"
   ]
  },
  {
   "cell_type": "markdown",
   "metadata": {
    "colab_type": "text",
    "id": "f_-YaRtHoxTm"
   },
   "source": [
    "Think of at least three kinds of your favorite pizza. Store these pizza names in a list, and then use a for loop to print the name of each pizza."
   ]
  },
  {
   "cell_type": "code",
   "execution_count": 0,
   "metadata": {
    "colab": {},
    "colab_type": "code",
    "id": "fP7RN03roxTn"
   },
   "outputs": [],
   "source": [
    "Fp=('Tikka','Pepproni','Capcino')"
   ]
  },
  {
   "cell_type": "code",
   "execution_count": 0,
   "metadata": {
    "colab": {
     "base_uri": "https://localhost:8080/",
     "height": 72
    },
    "colab_type": "code",
    "id": "zTApdIs_oxTq",
    "outputId": "95a74235-5f0d-4c97-ed93-25d2ec98cbf2"
   },
   "outputs": [
    {
     "name": "stdout",
     "output_type": "stream",
     "text": [
      "Tikka\n",
      "Pepproni\n",
      "Capcino\n"
     ]
    }
   ],
   "source": [
    "for i in Fp:\n",
    "  print(i)"
   ]
  },
  {
   "cell_type": "code",
   "execution_count": 0,
   "metadata": {
    "colab": {},
    "colab_type": "code",
    "id": "M4zpAxKyoxTt"
   },
   "outputs": [],
   "source": []
  },
  {
   "cell_type": "markdown",
   "metadata": {
    "colab_type": "text",
    "id": "ctCRRTiooxTv"
   },
   "source": [
    "# Q2"
   ]
  },
  {
   "cell_type": "markdown",
   "metadata": {
    "colab_type": "text",
    "id": "CR0zGQmWoxTw"
   },
   "source": [
    "Start with your last question , Modify your for loop to print a sentence using the name of the pizza\n",
    "instead of printing just the name of the pizza. For each pizza you should\n",
    "have one line of output containing a simple statement like I like pepperoni\n",
    "pizza."
   ]
  },
  {
   "cell_type": "code",
   "execution_count": 1,
   "metadata": {
    "colab": {},
    "colab_type": "code",
    "id": "fRce3g2KoxTx"
   },
   "outputs": [],
   "source": [
    "Fp=['Tikka','Pepproni','Capcino']"
   ]
  },
  {
   "cell_type": "code",
   "execution_count": 2,
   "metadata": {
    "colab": {
     "base_uri": "https://localhost:8080/",
     "height": 72
    },
    "colab_type": "code",
    "id": "JDGh4q1JoxTz",
    "outputId": "96e59f4b-1aab-4344-ca1d-e23aee50f4ca"
   },
   "outputs": [
    {
     "name": "stdout",
     "output_type": "stream",
     "text": [
      "I like Tikka pizza\n",
      "I like Pepproni pizza\n",
      "I like Capcino pizza\n"
     ]
    }
   ],
   "source": [
    "for i in Fp:\n",
    "    print(f'I like {i} pizza')\n",
    "  \n",
    " "
   ]
  },
  {
   "cell_type": "code",
   "execution_count": 0,
   "metadata": {
    "colab": {},
    "colab_type": "code",
    "id": "5cR9CsqgoxT2"
   },
   "outputs": [],
   "source": []
  },
  {
   "cell_type": "markdown",
   "metadata": {
    "colab_type": "text",
    "id": "lwz2UC9_oxT5"
   },
   "source": [
    "# Q3:"
   ]
  },
  {
   "cell_type": "markdown",
   "metadata": {
    "colab_type": "text",
    "id": "2-6yH3aKoxT6"
   },
   "source": [
    "Use a for loop to print the numbers from 1 to 20,\n",
    "inclusive."
   ]
  },
  {
   "cell_type": "code",
   "execution_count": 0,
   "metadata": {
    "colab": {
     "base_uri": "https://localhost:8080/",
     "height": 357
    },
    "colab_type": "code",
    "id": "OBaxfAntoxT7",
    "outputId": "61b2f592-50bd-4c10-cf7d-173841290d8d"
   },
   "outputs": [
    {
     "name": "stdout",
     "output_type": "stream",
     "text": [
      "1\n",
      "2\n",
      "3\n",
      "4\n",
      "5\n",
      "6\n",
      "7\n",
      "8\n",
      "9\n",
      "10\n",
      "11\n",
      "12\n",
      "13\n",
      "14\n",
      "15\n",
      "16\n",
      "17\n",
      "18\n",
      "19\n",
      "20\n"
     ]
    }
   ],
   "source": [
    "for i in range(1,21):\n",
    "  print(i)"
   ]
  },
  {
   "cell_type": "code",
   "execution_count": 0,
   "metadata": {
    "colab": {},
    "colab_type": "code",
    "id": "A6jWOLRmoxT-"
   },
   "outputs": [],
   "source": []
  },
  {
   "cell_type": "code",
   "execution_count": 0,
   "metadata": {
    "colab": {},
    "colab_type": "code",
    "id": "ZILc87dXoxUA"
   },
   "outputs": [],
   "source": []
  },
  {
   "cell_type": "markdown",
   "metadata": {
    "colab_type": "text",
    "id": "wpD99Rr_oxUD"
   },
   "source": [
    "# Q4:"
   ]
  },
  {
   "cell_type": "markdown",
   "metadata": {
    "colab_type": "text",
    "id": "4Fu_S8aMoxUE"
   },
   "source": [
    "Use the third argument of the range() function to make a list\n",
    "of the odd numbers from 1 to 20. Use a for loop to print each number."
   ]
  },
  {
   "cell_type": "code",
   "execution_count": 0,
   "metadata": {
    "colab": {
     "base_uri": "https://localhost:8080/",
     "height": 199
    },
    "colab_type": "code",
    "id": "_pnGpaMVoxUG",
    "outputId": "2691d606-d231-4403-a15c-413f544315e9"
   },
   "outputs": [
    {
     "name": "stdout",
     "output_type": "stream",
     "text": [
      "1\n",
      "3\n",
      "5\n",
      "7\n",
      "9\n",
      "11\n",
      "13\n",
      "15\n",
      "17\n",
      "19\n"
     ]
    }
   ],
   "source": [
    "for i in range(1,21,2):\n",
    "  print(i)"
   ]
  },
  {
   "cell_type": "code",
   "execution_count": 0,
   "metadata": {
    "colab": {},
    "colab_type": "code",
    "id": "njnkbqE6oxUJ"
   },
   "outputs": [],
   "source": []
  },
  {
   "cell_type": "code",
   "execution_count": 0,
   "metadata": {
    "colab": {},
    "colab_type": "code",
    "id": "q-8rLYoroxUL"
   },
   "outputs": [],
   "source": []
  },
  {
   "cell_type": "markdown",
   "metadata": {
    "colab_type": "text",
    "id": "Y0uqcIypoxUN"
   },
   "source": [
    "  # Q5:"
   ]
  },
  {
   "cell_type": "markdown",
   "metadata": {
    "colab_type": "text",
    "id": "FHP2BW29oxUO"
   },
   "source": [
    "Make a list of the multiples of 3 from 3 to 30. Use a for loop to\n",
    "print the numbers in your list."
   ]
  },
  {
   "cell_type": "code",
   "execution_count": 0,
   "metadata": {
    "colab": {
     "base_uri": "https://localhost:8080/",
     "height": 199
    },
    "colab_type": "code",
    "id": "6jjGyiSYoxUO",
    "outputId": "8a2571a3-dd51-42be-ee94-be39dd4a2ba7"
   },
   "outputs": [
    {
     "name": "stdout",
     "output_type": "stream",
     "text": [
      "3*1=3\n",
      "3*2=6\n",
      "3*3=9\n",
      "3*4=12\n",
      "3*5=15\n",
      "3*6=18\n",
      "3*7=21\n",
      "3*8=24\n",
      "3*9=27\n",
      "3*10=30\n"
     ]
    }
   ],
   "source": [
    "for i in range(1,11):\n",
    "  print(f'3*{i}={3*i}')"
   ]
  },
  {
   "cell_type": "code",
   "execution_count": 0,
   "metadata": {
    "colab": {},
    "colab_type": "code",
    "id": "ctZ1etmHoxUR"
   },
   "outputs": [],
   "source": []
  },
  {
   "cell_type": "code",
   "execution_count": 0,
   "metadata": {
    "colab": {},
    "colab_type": "code",
    "id": "vuT-LH5aoxUT"
   },
   "outputs": [],
   "source": []
  },
  {
   "cell_type": "code",
   "execution_count": 0,
   "metadata": {
    "colab": {},
    "colab_type": "code",
    "id": "V5AARQ4voxUV"
   },
   "outputs": [],
   "source": []
  },
  {
   "cell_type": "markdown",
   "metadata": {
    "colab_type": "text",
    "id": "qs7FxWdBoxUX"
   },
   "source": [
    "# Q6:"
   ]
  },
  {
   "cell_type": "markdown",
   "metadata": {
    "colab_type": "text",
    "id": "HZy_mXTEoxUY"
   },
   "source": [
    "A number raised to the third power is called a cube. For example,\n",
    "the cube of 2 is written as 2**3 in Python. Make a list of the first 10 cubes (that\n",
    "is, the cube of each integer from 1 through 10), and use a for loop to print out\n",
    "the value of each cube"
   ]
  },
  {
   "cell_type": "code",
   "execution_count": 0,
   "metadata": {
    "colab": {
     "base_uri": "https://localhost:8080/",
     "height": 199
    },
    "colab_type": "code",
    "id": "o9N6MB-koxUZ",
    "outputId": "7a13d5a8-0f6c-4ac7-e02e-9ec9dc5e6ce5"
   },
   "outputs": [
    {
     "name": "stdout",
     "output_type": "stream",
     "text": [
      "1**3=1\n",
      "2**3=8\n",
      "3**3=27\n",
      "4**3=64\n",
      "5**3=125\n",
      "6**3=216\n",
      "7**3=343\n",
      "8**3=512\n",
      "9**3=729\n",
      "10**3=1000\n"
     ]
    }
   ],
   "source": [
    "for i in range(1,11):\n",
    "  print(f'{i}**3={i**3}')"
   ]
  },
  {
   "cell_type": "code",
   "execution_count": 0,
   "metadata": {
    "colab": {},
    "colab_type": "code",
    "id": "VPh8gps2oxUc"
   },
   "outputs": [],
   "source": []
  },
  {
   "cell_type": "code",
   "execution_count": 0,
   "metadata": {
    "colab": {},
    "colab_type": "code",
    "id": "RTtf3qNXoxUh"
   },
   "outputs": [],
   "source": []
  },
  {
   "cell_type": "code",
   "execution_count": 0,
   "metadata": {
    "colab": {},
    "colab_type": "code",
    "id": "gieyxJ54oxUk"
   },
   "outputs": [],
   "source": []
  },
  {
   "cell_type": "markdown",
   "metadata": {
    "colab_type": "text",
    "id": "3O2rXx6moxUm"
   },
   "source": [
    "# Q7:"
   ]
  },
  {
   "cell_type": "markdown",
   "metadata": {
    "colab_type": "text",
    "id": "Ev2Q7dP9oxUn"
   },
   "source": [
    "###### Make a python program that conatains your nine favourite dishes in a list called foods.\n",
    "\n",
    "###### Print the message, The first three items in the list are:. \n",
    "###### Then use a slice to print the first three items from that program’s list.\n",
    "\n",
    "###### Print the message, Three items from the middle of the list are:\n",
    "###### Use a slice to print three items from the middle of the list.\n",
    "\n",
    "###### Print the message, The last three items in the list are:\n",
    "###### Use a slice to print the last three items in the list."
   ]
  },
  {
   "cell_type": "code",
   "execution_count": 0,
   "metadata": {
    "colab": {},
    "colab_type": "code",
    "id": "6M_AbZouoxUn"
   },
   "outputs": [],
   "source": [
    "food=('Biryani','Tikka','Karhai','Namkin gosht','Haleem','Macroni','Pizza','Burger','Kheer')"
   ]
  },
  {
   "cell_type": "code",
   "execution_count": 0,
   "metadata": {
    "colab": {
     "base_uri": "https://localhost:8080/",
     "height": 35
    },
    "colab_type": "code",
    "id": "DCU6XtbtoxUp",
    "outputId": "8bb2b67b-6339-46ec-abd0-51ada5967fcc"
   },
   "outputs": [
    {
     "name": "stdout",
     "output_type": "stream",
     "text": [
      "The first three dishes are:('Biryani', 'Tikka', 'Karhai')\n"
     ]
    }
   ],
   "source": [
    "print(f'The first three dishes are:{food[0:3]}')"
   ]
  },
  {
   "cell_type": "code",
   "execution_count": 0,
   "metadata": {
    "colab": {
     "base_uri": "https://localhost:8080/",
     "height": 35
    },
    "colab_type": "code",
    "id": "t-XW-4scoxUr",
    "outputId": "7ed8c588-820b-4afb-8f7d-60b980dc36db"
   },
   "outputs": [
    {
     "name": "stdout",
     "output_type": "stream",
     "text": [
      "The three dishes in middle are:('Namkin gosht', 'Haleem', 'Macroni')\n"
     ]
    }
   ],
   "source": [
    "print(f'The three dishes in middle are:{food[3:6]}')"
   ]
  },
  {
   "cell_type": "code",
   "execution_count": 0,
   "metadata": {
    "colab": {
     "base_uri": "https://localhost:8080/",
     "height": 35
    },
    "colab_type": "code",
    "id": "2T6XvFgIoxUt",
    "outputId": "24d746ef-d131-44e5-9f96-9bbb243e4002"
   },
   "outputs": [
    {
     "name": "stdout",
     "output_type": "stream",
     "text": [
      "The last three dishes are:('Pizza', 'Burger', 'Kheer')\n"
     ]
    }
   ],
   "source": [
    "print(f'The last three dishes are:{food[6:9]}')"
   ]
  },
  {
   "cell_type": "code",
   "execution_count": 0,
   "metadata": {
    "colab": {},
    "colab_type": "code",
    "id": "ZSxDsHO8oxUv"
   },
   "outputs": [],
   "source": []
  },
  {
   "cell_type": "code",
   "execution_count": 0,
   "metadata": {
    "colab": {},
    "colab_type": "code",
    "id": "ZbmdkXXvoxU1"
   },
   "outputs": [],
   "source": []
  },
  {
   "cell_type": "code",
   "execution_count": 0,
   "metadata": {
    "colab": {},
    "colab_type": "code",
    "id": "fBhwMeNqoxU3"
   },
   "outputs": [],
   "source": []
  },
  {
   "cell_type": "markdown",
   "metadata": {
    "colab_type": "text",
    "id": "dEuSrVPeoxU5"
   },
   "source": [
    "# Q8:"
   ]
  },
  {
   "cell_type": "markdown",
   "metadata": {
    "colab_type": "text",
    "id": "8-5LvybIoxU6"
   },
   "source": [
    "### Start with your program from your last Question8.\n",
    "###### Make a copy of the list of foods, and call it friend_foods.\n",
    "###### Then, do the following:\n",
    "######    Add a new dish to the original list.\n",
    "######    Add a different dish to the list friend_foodss.\n",
    "######    Prove that you have two separate lists. \n",
    "###### Print the message, My favorite pizzas are: and then use a for loop to print the first list. \n",
    "###### Print the message,\n",
    "###### My friend’s favorite foods are:, and then use a for loop to print the second list.\n",
    "    \n",
    "##### NOTE: Make sure each new dish is stored in the appropriate list."
   ]
  },
  {
   "cell_type": "code",
   "execution_count": 0,
   "metadata": {
    "colab": {},
    "colab_type": "code",
    "id": "PEjo6flFoxU7"
   },
   "outputs": [],
   "source": [
    "friend_foods=('Biryani','Tikka','Karhai','Namkin gosht','Haleem','Nihari','Halwa Puri','Burger','Kheer')"
   ]
  },
  {
   "cell_type": "code",
   "execution_count": 0,
   "metadata": {
    "colab": {},
    "colab_type": "code",
    "id": "RDlp_9wSoxU_"
   },
   "outputs": [],
   "source": [
    "foods=['Biryani','Tikka','Karhai','Namkin gosht','Haleem','Macroni','Pizza','Burger','Kheer']"
   ]
  },
  {
   "cell_type": "code",
   "execution_count": 0,
   "metadata": {
    "colab": {
     "base_uri": "https://localhost:8080/",
     "height": 35
    },
    "colab_type": "code",
    "id": "IBtvV3GWoxVB",
    "outputId": "e4f81552-c6a3-4171-ba38-35153b10030b"
   },
   "outputs": [
    {
     "name": "stdout",
     "output_type": "stream",
     "text": [
      "My favorite foods are:['Biryani', 'Tikka', 'Karhai', 'Namkin gosht', 'Haleem', 'Macroni', 'Pizza', 'Burger', 'Kheer']\n"
     ]
    }
   ],
   "source": [
    "for i in [foods]:\n",
    "    print(f'My favorite foods are:{i}')"
   ]
  },
  {
   "cell_type": "code",
   "execution_count": 0,
   "metadata": {
    "colab": {
     "base_uri": "https://localhost:8080/",
     "height": 35
    },
    "colab_type": "code",
    "id": "IO4Ff2p_oxVC",
    "outputId": "3b2c1947-d6d8-4e9c-80e5-a7b8cb423c43"
   },
   "outputs": [
    {
     "name": "stdout",
     "output_type": "stream",
     "text": [
      "My friend's favorite foods are:('Biryani', 'Tikka', 'Karhai', 'Namkin gosht', 'Haleem', 'Nihari', 'Halwa Puri', 'Burger', 'Kheer')\n"
     ]
    }
   ],
   "source": [
    "for i in [friend_foods]:\n",
    "    print(f\"My friend's favorite foods are:{friend_foods}\")"
   ]
  },
  {
   "cell_type": "code",
   "execution_count": 0,
   "metadata": {
    "colab": {},
    "colab_type": "code",
    "id": "hd6TfNRroxVE"
   },
   "outputs": [],
   "source": []
  },
  {
   "cell_type": "code",
   "execution_count": 0,
   "metadata": {
    "colab": {},
    "colab_type": "code",
    "id": "vwSALcmwoxVG"
   },
   "outputs": [],
   "source": [
    " "
   ]
  },
  {
   "cell_type": "code",
   "execution_count": 0,
   "metadata": {
    "colab": {},
    "colab_type": "code",
    "id": "n-oAg8mOoxVJ"
   },
   "outputs": [],
   "source": []
  },
  {
   "cell_type": "markdown",
   "metadata": {
    "colab_type": "text",
    "id": "oJq9UGFEoxVL"
   },
   "source": [
    "# Q9:"
   ]
  },
  {
   "cell_type": "markdown",
   "metadata": {
    "colab_type": "text",
    "id": "32NQnptDoxVM"
   },
   "source": [
    "Take a user input from console line.Store it in a variable called Alien_color.\n",
    "\n",
    "If the alien’s color is red, print a statement that the player just earned 5 points for shooting the alien.\n",
    "\n",
    "If the alien’s color isn’t green, print a statement that the player just earned 10 points.\n",
    "\n",
    "If the alien's color isn't red or green , print a statment :, Alien is no more....."
   ]
  },
  {
   "cell_type": "code",
   "execution_count": 0,
   "metadata": {
    "colab": {
     "base_uri": "https://localhost:8080/",
     "height": 35
    },
    "colab_type": "code",
    "id": "cq0RbUMjoxVM",
    "outputId": "d0212b2f-5499-4e76-bd6b-a7ba9d2e2653"
   },
   "outputs": [
    {
     "name": "stdout",
     "output_type": "stream",
     "text": [
      "What is your name? Umer\n"
     ]
    }
   ],
   "source": [
    "name=input('What is your name? ')\n"
   ]
  },
  {
   "cell_type": "code",
   "execution_count": 0,
   "metadata": {
    "colab": {
     "base_uri": "https://localhost:8080/",
     "height": 54
    },
    "colab_type": "code",
    "id": "tA-0uls5oxVQ",
    "outputId": "dfc0e724-3826-4bab-db06-69d3a45313d4"
   },
   "outputs": [
    {
     "name": "stdout",
     "output_type": "stream",
     "text": [
      "What is Alien color? Green\n",
      "Umer got 10 points.\n"
     ]
    }
   ],
   "source": [
    "Alien_color=input('What is Alien color? ')\n",
    "if Alien_color ==\"Red\":\n",
    "    print(f\"{name} got 5 points.\")\n",
    "elif Alien_color == \"Green\":\n",
    "    print(f\"{name} got 10 points.\")\n",
    "else:\n",
    "    print(\"Alien is no more.\")"
   ]
  },
  {
   "cell_type": "code",
   "execution_count": 0,
   "metadata": {
    "colab": {},
    "colab_type": "code",
    "id": "5DuYKH34oxVS"
   },
   "outputs": [],
   "source": []
  },
  {
   "cell_type": "code",
   "execution_count": 0,
   "metadata": {
    "colab": {},
    "colab_type": "code",
    "id": "diNd0xrRoxVT"
   },
   "outputs": [],
   "source": []
  },
  {
   "cell_type": "markdown",
   "metadata": {
    "colab_type": "text",
    "id": "Fqtk9PfpoxVV"
   },
   "source": [
    "# Q10:"
   ]
  },
  {
   "cell_type": "markdown",
   "metadata": {
    "colab_type": "text",
    "id": "nwyCIvZRoxVV"
   },
   "source": [
    "Write an if-elif-else chain that determines a person’s\n",
    "stage of life. Set a value for the variable age, and then:\n",
    "    \n",
    "•\t If the person is less than 2 years old, print a message that the person is a baby.\n",
    "\n",
    "•\t If the person is at least 2 years old but less than 4, print a message that the person is a toddler.\n",
    "\n",
    "•\t If the person is at least 4 years old but less than 13, print a message that the person is a kid.\n",
    "\n",
    "•\t If the person is at least 13 years old but less than 20, print a message that the person is a teenager.\n",
    "\n",
    "•\t If the person is at least 20 years old but less than 65, print a message that the person is an adult.\n",
    "\n",
    "•\t If the person is age 65 or older, print a message that the person is an elder."
   ]
  },
  {
   "cell_type": "code",
   "execution_count": 1,
   "metadata": {
    "colab": {
     "base_uri": "https://localhost:8080/",
     "height": 72
    },
    "colab_type": "code",
    "id": "T-14wSTloxVW",
    "outputId": "dc50a187-6421-406f-a0a3-1cd4fef89dd4"
   },
   "outputs": [
    {
     "name": "stdout",
     "output_type": "stream",
     "text": [
      "What is your name? Umer\n",
      "What is your age? 17\n",
      "The Umer is a teenager.\n"
     ]
    }
   ],
   "source": [
    "name=input('What is your name? ')\n",
    "age=int(input('What is your age? '))\n",
    "if age<2:\n",
    "  print(f'The {name} is a baby.')\n",
    "elif 2<age<4:\n",
    "  print(f'The {name} is a toddler.')\n",
    "elif 4<age<13:  \n",
    "  print(f'The {name} is a kid.')\n",
    "elif 13<age<20:\n",
    "  print(f'The {name} is a teenager.')\n",
    "elif 20<age<60:\n",
    "  print(f'The {name} is an adult.')\n",
    "else:\n",
    "  print(f'The {name} is an elder .')"
   ]
  },
  {
   "cell_type": "code",
   "execution_count": 0,
   "metadata": {
    "colab": {
     "base_uri": "https://localhost:8080/",
     "height": 72
    },
    "colab_type": "code",
    "id": "9yKuWDkjoxVY",
    "outputId": "2da5d525-f6a3-4639-8c7b-ac3d2b43d217"
   },
   "outputs": [
    {
     "name": "stdout",
     "output_type": "stream",
     "text": [
      "What is your name? Hameed\n",
      "What is your age? 53\n",
      "The Hameed is an adult.\n"
     ]
    }
   ],
   "source": [
    "name=input('What is your name? ')\n",
    "age=int(input('What is your age? '))\n",
    "if age<2:\n",
    "  print(f'The {name} is a baby.')\n",
    "elif 2<age<4:\n",
    "  print(f'The {name} is a toddler.')\n",
    "elif 4<age<13:  \n",
    "  print(f'The {name} is a kid.')\n",
    "elif 13<age<20:\n",
    "  print(f'The {name} is a teenager.')\n",
    "elif 20<age<60:\n",
    "  print(f'The {name} is an adult.')\n",
    "else:\n",
    "  print(f'The {name} is an elder .')"
   ]
  },
  {
   "cell_type": "code",
   "execution_count": 0,
   "metadata": {
    "colab": {
     "base_uri": "https://localhost:8080/",
     "height": 72
    },
    "colab_type": "code",
    "id": "HpdAq5Y9oxVa",
    "outputId": "ff2db6bd-8166-4a0d-b99c-00df1acc9a38"
   },
   "outputs": [
    {
     "name": "stdout",
     "output_type": "stream",
     "text": [
      "What is your name? Hammad\n",
      "What is your age? 90\n",
      "The Hammad is an elder .\n"
     ]
    }
   ],
   "source": [
    "name=input('What is your name? ')\n",
    "age=int(input('What is your age? '))\n",
    "if age<2:\n",
    "  print(f'The {name} is a baby.')\n",
    "elif 2<age<4:\n",
    "  print(f'The {name} is a toddler.')\n",
    "elif 4<age<13:  \n",
    "  print(f'The {name} is a kid.')\n",
    "elif 13<age<20:\n",
    "  print(f'The {name} is a teenager.')\n",
    "elif 20<age<60:\n",
    "  print(f'The {name} is an adult.')\n",
    "else:\n",
    "  print(f'The {name} is an elder .')"
   ]
  },
  {
   "cell_type": "code",
   "execution_count": 0,
   "metadata": {
    "colab": {},
    "colab_type": "code",
    "id": "S6cUQvUAoxVc"
   },
   "outputs": [],
   "source": []
  },
  {
   "cell_type": "code",
   "execution_count": 0,
   "metadata": {
    "colab": {},
    "colab_type": "code",
    "id": "A7F7YNxyoxVm"
   },
   "outputs": [],
   "source": []
  },
  {
   "cell_type": "code",
   "execution_count": 0,
   "metadata": {
    "colab": {},
    "colab_type": "code",
    "id": "tdO2PKLwoxVp"
   },
   "outputs": [],
   "source": []
  },
  {
   "cell_type": "markdown",
   "metadata": {
    "colab_type": "text",
    "id": "Wwp63TIFoxVr"
   },
   "source": [
    "# Q11:"
   ]
  },
  {
   "cell_type": "markdown",
   "metadata": {
    "colab_type": "text",
    "id": "VVy-CqdfoxVs"
   },
   "source": [
    "Do the following to create a program that simulates how websites ensure that everyone has a unique username.\n",
    "\n",
    "•\t Make a list of five or more usernames called current_users.\n",
    "\n",
    "•\t Make another list of five usernames called new_users. \n",
    "Make sure one or two of the new usernames are also in the current_users list.\n",
    "\n",
    "•\t Loop through the new_users list to see if each new username has already been used. \n",
    "If it has, print a message that the person will need to enter a new username. \n",
    "If a username has not been used, print a message saying that the username is available.\n",
    "\n",
    "•\t Make sure your comparison is case insensitive. If 'John' has been used, 'JOHN' should not be accepted."
   ]
  },
  {
   "cell_type": "code",
   "execution_count": 2,
   "metadata": {
    "colab": {},
    "colab_type": "code",
    "id": "h9LLDoUcoxVt"
   },
   "outputs": [],
   "source": [
    "current_users=['Umer','Hammad','Umaid','Taha','Owais']"
   ]
  },
  {
   "cell_type": "code",
   "execution_count": 3,
   "metadata": {
    "colab": {},
    "colab_type": "code",
    "id": "zAKxBsTtoxVv"
   },
   "outputs": [],
   "source": [
    "new_users=['Hammad','Umer','Usman','Khubaib','Wahab',]"
   ]
  },
  {
   "cell_type": "code",
   "execution_count": 7,
   "metadata": {
    "colab": {
     "base_uri": "https://localhost:8080/",
     "height": 54
    },
    "colab_type": "code",
    "id": "hvJBj6qRoxVx",
    "outputId": "549595f9-19f3-40d4-b23f-19f5f63915a4"
   },
   "outputs": [
    {
     "name": "stdout",
     "output_type": "stream",
     "text": [
      "Umer is available\n",
      "Umer is already logged in.\n",
      "Umer is available\n",
      "Umer is available\n",
      "Umer is available\n",
      "Hammad is already logged in.\n",
      "Hammad is available\n",
      "Hammad is available\n",
      "Hammad is available\n",
      "Hammad is available\n",
      "Umaid is available\n",
      "Umaid is available\n",
      "Umaid is available\n",
      "Umaid is available\n",
      "Umaid is available\n",
      "Taha is available\n",
      "Taha is available\n",
      "Taha is available\n",
      "Taha is available\n",
      "Taha is available\n",
      "Owais is available\n",
      "Owais is available\n",
      "Owais is available\n",
      "Owais is available\n",
      "Owais is available\n"
     ]
    }
   ],
   "source": [
    "for i in current_users :\n",
    "    for j in new_users:\n",
    "        if i==j:\n",
    "            print(f'{i} is already logged in.')\n",
    "        else:\n",
    "            print(f'{i} is available')\n",
    "          \n",
    "            \n"
   ]
  },
  {
   "cell_type": "code",
   "execution_count": 0,
   "metadata": {
    "colab": {},
    "colab_type": "code",
    "id": "I0VJrf02oxVy"
   },
   "outputs": [],
   "source": []
  },
  {
   "cell_type": "markdown",
   "metadata": {
    "colab_type": "text",
    "id": "D6sS2tjqoxV2"
   },
   "source": [
    "# Q12:"
   ]
  },
  {
   "cell_type": "markdown",
   "metadata": {
    "colab_type": "text",
    "id": "r6esyFKZoxV3"
   },
   "source": [
    "Use a dictionary to store information about a person you know.\n",
    "Store their first name, last name, age, and the city in which they live. \n",
    "You should have keys such as first_name, last_name, age, and city. \n",
    "Print each piece of information stored in your dictionary"
   ]
  },
  {
   "cell_type": "code",
   "execution_count": 11,
   "metadata": {
    "colab": {},
    "colab_type": "code",
    "id": "n1bw9ny8oxV4"
   },
   "outputs": [],
   "source": [
    "F={'fname':'Hammad','lname':'Ali','age':19,'city':'Karachi'}"
   ]
  },
  {
   "cell_type": "code",
   "execution_count": 12,
   "metadata": {
    "colab": {
     "base_uri": "https://localhost:8080/",
     "height": 35
    },
    "colab_type": "code",
    "id": "9TNH7GbZoxV7",
    "outputId": "602e838c-7e09-4739-8553-785eb95d74e5"
   },
   "outputs": [
    {
     "data": {
      "text/plain": [
       "'Hammad'"
      ]
     },
     "execution_count": 12,
     "metadata": {},
     "output_type": "execute_result"
    }
   ],
   "source": [
    "F['fname']"
   ]
  },
  {
   "cell_type": "code",
   "execution_count": 18,
   "metadata": {
    "colab": {
     "base_uri": "https://localhost:8080/",
     "height": 90
    },
    "colab_type": "code",
    "id": "xUbHD11FoxV8",
    "outputId": "386f829e-907e-40e5-aa8f-f5e2ad546c5b"
   },
   "outputs": [
    {
     "name": "stdout",
     "output_type": "stream",
     "text": [
      "\n",
      "key: fname\n",
      "\n",
      "value: Hammad\n",
      "\n",
      "key: lname\n",
      "\n",
      "value: Ali\n",
      "\n",
      "key: age\n",
      "\n",
      "value: 19\n",
      "\n",
      "key: city\n",
      "\n",
      "value: Karachi\n"
     ]
    }
   ],
   "source": [
    "for keys,values in F.items():\n",
    "    print('\\nkey:',keys)\n",
    "    print('\\nvalue:',values)"
   ]
  },
  {
   "cell_type": "code",
   "execution_count": null,
   "metadata": {
    "colab": {
     "base_uri": "https://localhost:8080/",
     "height": 90
    },
    "colab_type": "code",
    "id": "EWlaU4wdoxV-",
    "outputId": "ec13db06-bb95-4d9f-c49f-04ca907d20cd"
   },
   "outputs": [],
   "source": []
  },
  {
   "cell_type": "markdown",
   "metadata": {
    "colab_type": "text",
    "id": "Gi-40g1PoxWA"
   },
   "source": [
    "# Q13:"
   ]
  },
  {
   "cell_type": "markdown",
   "metadata": {
    "colab_type": "text",
    "id": "evYUlWo_oxWA"
   },
   "source": [
    "Starts with your last question 12 , loop through the dictionary’s keys and values.\n",
    "When you’re sure that your loop works, add five more Python terms to your\n",
    "dictionary . When you run your program again, these new words and meanings\n",
    "should automatically be included in the output."
   ]
  },
  {
   "cell_type": "code",
   "execution_count": 23,
   "metadata": {
    "colab": {},
    "colab_type": "code",
    "id": "M8YZiCEhoxWD"
   },
   "outputs": [],
   "source": [
    "F={'fname':'Hammad','lname':'Ali','age':19,'city':'Karachi','int' : 'numbers','string' : 'characters','boolean' :  'true or false','loop': 'repetition of anything','list': 'colection of data',}"
   ]
  },
  {
   "cell_type": "code",
   "execution_count": 24,
   "metadata": {
    "colab": {
     "base_uri": "https://localhost:8080/",
     "height": 90
    },
    "colab_type": "code",
    "id": "QHlsMrQqoxWE",
    "outputId": "12a20539-9a6a-4a12-b5b2-574c3c828335"
   },
   "outputs": [
    {
     "name": "stdout",
     "output_type": "stream",
     "text": [
      "\n",
      "key: fname\n",
      "\n",
      "value: Hammad\n",
      "\n",
      "key: lname\n",
      "\n",
      "value: Ali\n",
      "\n",
      "key: age\n",
      "\n",
      "value: 19\n",
      "\n",
      "key: city\n",
      "\n",
      "value: Karachi\n",
      "\n",
      "key: int\n",
      "\n",
      "value: numbers\n",
      "\n",
      "key: string\n",
      "\n",
      "value: characters\n",
      "\n",
      "key: boolean\n",
      "\n",
      "value: true or false\n",
      "\n",
      "key: loop\n",
      "\n",
      "value: repetition of anything\n",
      "\n",
      "key: list\n",
      "\n",
      "value: colection of data\n"
     ]
    }
   ],
   "source": [
    "for keys,values in F.items():\n",
    "    print('\\nkey:',keys)\n",
    "    print('\\nvalue:',values)"
   ]
  },
  {
   "cell_type": "code",
   "execution_count": null,
   "metadata": {
    "colab": {
     "base_uri": "https://localhost:8080/",
     "height": 90
    },
    "colab_type": "code",
    "id": "7jvLzB9_oxWF",
    "outputId": "35b20ffa-5081-47ac-ef9e-52afafc98c4d"
   },
   "outputs": [],
   "source": []
  },
  {
   "cell_type": "code",
   "execution_count": 0,
   "metadata": {
    "colab": {},
    "colab_type": "code",
    "id": "cPmQMAwToxWH"
   },
   "outputs": [],
   "source": []
  },
  {
   "cell_type": "code",
   "execution_count": 0,
   "metadata": {
    "colab": {},
    "colab_type": "code",
    "id": "x9JlU5mToxWI"
   },
   "outputs": [],
   "source": []
  },
  {
   "cell_type": "markdown",
   "metadata": {
    "colab_type": "text",
    "id": "Ete7IviZoxWK"
   },
   "source": [
    "# Q14:"
   ]
  },
  {
   "cell_type": "markdown",
   "metadata": {
    "colab_type": "text",
    "id": "0wTJtKvyoxWL"
   },
   "source": [
    "Make a dictionary containing three major rivers and the country\n",
    "each river runs through. One key-value pair might be 'nile': 'egypt'.\n",
    "    \n",
    "    \n",
    "•\t Use a loop to print a sentence about each river, such as The Nile runs\n",
    "through Egypt.\n",
    "\n",
    "NOTE: use upper case through keys and values."
   ]
  },
  {
   "cell_type": "code",
   "execution_count": 25,
   "metadata": {
    "colab": {},
    "colab_type": "code",
    "id": "9f6M5eiToxWL"
   },
   "outputs": [],
   "source": [
    "rivers={'Nile':'Egypt','Amazon':'Africa','Indus':'Pakistan'}"
   ]
  },
  {
   "cell_type": "code",
   "execution_count": 26,
   "metadata": {
    "colab": {
     "base_uri": "https://localhost:8080/",
     "height": 126
    },
    "colab_type": "code",
    "id": "3Jfj-ybFoxWN",
    "outputId": "09dafa73-0467-49ef-dd37-8d03339cbeea"
   },
   "outputs": [
    {
     "name": "stdout",
     "output_type": "stream",
     "text": [
      "Nile\n",
      "Amazon\n",
      "Indus\n",
      "Egypt\n",
      "Africa\n",
      "Pakistan\n"
     ]
    }
   ],
   "source": [
    "for keys in rivers.keys():\n",
    "  a=keys  \n",
    "  print(keys)\n",
    "for val in rivers.values():\n",
    "  b=val\n",
    "  print(val)"
   ]
  },
  {
   "cell_type": "code",
   "execution_count": 27,
   "metadata": {
    "colab": {
     "base_uri": "https://localhost:8080/",
     "height": 72
    },
    "colab_type": "code",
    "id": "QVUBWTl0oxWO",
    "outputId": "6ae6ed9f-54b2-4ea6-949a-5730c900af25"
   },
   "outputs": [
    {
     "name": "stdout",
     "output_type": "stream",
     "text": [
      "The Nile runs through Egypt\n",
      "The Amazon runs through Africa\n",
      "The Indus runs through Pakistan\n"
     ]
    }
   ],
   "source": [
    "for i,j in rivers.items():\n",
    "    print('The' +  ' '+ i +  ' ' + 'runs through' + ' ' + j )"
   ]
  },
  {
   "cell_type": "markdown",
   "metadata": {
    "colab_type": "text",
    "id": "CSUYJsM_oxWP"
   },
   "source": [
    "# Q15:"
   ]
  },
  {
   "cell_type": "markdown",
   "metadata": {
    "colab_type": "text",
    "id": "VMBXGqoKoxWQ"
   },
   "source": [
    "Make several dictionaries, where the name of each dictionary is the\n",
    "name of a pet. In each dictionary, include the kind of animal and the owner’s\n",
    "name. Store these dictionaries in a list called pets. Next, loop through your list\n",
    "and as you do print everything you know about each pet."
   ]
  },
  {
   "cell_type": "code",
   "execution_count": 30,
   "metadata": {
    "colab": {},
    "colab_type": "code",
    "id": "oJAKR8WEoxWQ"
   },
   "outputs": [
    {
     "name": "stdout",
     "output_type": "stream",
     "text": [
      "the name of petanimals is cats\n",
      "the name of owners_name is John\n",
      "the name of pet animal is Dogs\n",
      "the name of owners_name is Peter\n",
      "the name of pet animal is Rabbitss\n",
      "the name of owners_name is Susan\n"
     ]
    }
   ],
   "source": [
    "maano = {'petanimals' : 'cats','owners_name' : 'John'}\n",
    "tuffy = {'pet animal' : 'Dogs','owners_name' : 'Peter'}\n",
    "ghousho = {'pet animal' : 'Rabbitss','owners_name' : 'Susan',}\n",
    "list1 = []\n",
    "list1.append(maano)\n",
    "list1.append(tuffy)\n",
    "list1.append(ghousho)\n",
    "#print(list1)\n",
    "for animals in list1:\n",
    "    for i , j in animals.items():\n",
    "        print('the name of ' + i + ' ' + 'is ' + j )"
   ]
  },
  {
   "cell_type": "code",
   "execution_count": null,
   "metadata": {},
   "outputs": [],
   "source": []
  }
 ],
 "metadata": {
  "colab": {
   "collapsed_sections": [],
   "name": "Assignment 2.ipynb",
   "provenance": [],
   "version": "0.3.2"
  },
  "kernelspec": {
   "display_name": "Python 3",
   "language": "python",
   "name": "python3"
  },
  "language_info": {
   "codemirror_mode": {
    "name": "ipython",
    "version": 3
   },
   "file_extension": ".py",
   "mimetype": "text/x-python",
   "name": "python",
   "nbconvert_exporter": "python",
   "pygments_lexer": "ipython3",
   "version": "3.7.3"
  }
 },
 "nbformat": 4,
 "nbformat_minor": 1
}
